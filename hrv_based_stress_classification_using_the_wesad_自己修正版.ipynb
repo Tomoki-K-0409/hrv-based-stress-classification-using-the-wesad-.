{
  "cells": [
    {
      "cell_type": "code",
      "execution_count": 1,
      "metadata": {
        "colab": {
          "base_uri": "https://localhost:8080/"
        },
        "id": "rE6_R_1-bSpM",
        "outputId": "494669e8-7832-4cd9-e584-35943372bbbc"
      },
      "outputs": [
        {
          "name": "stdout",
          "output_type": "stream",
          "text": [
            "Chosen slug: orvile/wesad-wearable-stress-affect-detection-dataset\n",
            "⏭️ 既にPKLが見つかりました。ダウンロードをスキップします。\n",
            "DATA_PATH = /content/data/WESAD/\n",
            "SUBJECT_ID = S2\n",
            "PKL path  = /content/data/WESAD/S2/S2.pkl\n",
            "Loaded OK. type(data) = <class 'dict'>\n",
            "Top-level keys: ['signal', 'label', 'subject']\n"
          ]
        }
      ],
      "source": [
        "# === Colab 先頭セル：認証→(必要なら)DL→PKL自動検出→DATA_PATH/SUBJECT_ID設定→data読込 ===\n",
        "!pip -q install kaggle\n",
        "\n",
        "from pathlib import Path\n",
        "import sys, os, io, zipfile, glob, subprocess\n",
        "import pickle\n",
        "import pandas as pd  # Colab標準で入ってます\n",
        "\n",
        "# ===== 設定 =====\n",
        "DATA_ROOT = Path(\"/content/data\")              # 展開先\n",
        "DATA_ROOT.mkdir(parents=True, exist_ok=True)\n",
        "PREFERRED_DATASET = None                       # 例: \"owner/wesad-mirror-slug\"（あれば優先）\n",
        "PREFERRED_SUBJECT = \"S2\"                       # 既定で S2 を優先\n",
        "\n",
        "# ===== Kaggle 認証（既に設定済みならスキップ）=====\n",
        "KAGGLE_JSON = Path(\"/root/.kaggle/kaggle.json\")\n",
        "if not KAGGLE_JSON.exists():\n",
        "    try:\n",
        "        from google.colab import files\n",
        "        print(\"▶ kaggle.json をアップロードしてください（Kaggle: Account → Create New API Token）\")\n",
        "        uploaded = files.upload()\n",
        "        assert \"kaggle.json\" in uploaded, \"kaggle.json を選択してください\"\n",
        "        os.makedirs(\"/root/.kaggle\", exist_ok=True)\n",
        "        os.replace(\"kaggle.json\", str(KAGGLE_JSON))\n",
        "        os.chmod(KAGGLE_JSON, 0o600)\n",
        "        print(\"✅ kaggle.json 設定完了\")\n",
        "    except Exception as e:\n",
        "        print(\"❌ Kaggle認証が未設定です。環境変数方式を使う場合は以下を有効化してください：\")\n",
        "        print(\"# os.environ['KAGGLE_USERNAME'] = 'your_username'\")\n",
        "        print(\"# os.environ['KAGGLE_KEY'] = 'your_api_key'\")\n",
        "        raise\n",
        "\n",
        "# ===== slug 決定 =====\n",
        "def pick_slug(preferred: str | None) -> str:\n",
        "    if preferred:\n",
        "        return preferred\n",
        "    # \"wesad\" を検索してスコア順に並べ、最有力を選ぶ\n",
        "    res = subprocess.run([\"kaggle\",\"datasets\",\"list\",\"-s\",\"wesad\",\"--csv\"],\n",
        "                         capture_output=True, text=True)\n",
        "    if res.returncode != 0:\n",
        "        raise RuntimeError(\"kaggle search failed:\\n\" + res.stderr)\n",
        "    df = pd.read_csv(io.StringIO(res.stdout))\n",
        "    if df.empty:\n",
        "        raise SystemExit(\"Kaggle上で 'wesad' が見つかりませんでした。\")\n",
        "    df[\"score\"] = 0\n",
        "    title = df[\"title\"].fillna(\"\").str.lower()\n",
        "    df.loc[title.str.contains(\"wesad\"), \"score\"] += 5\n",
        "    df.loc[title.str.contains(\"wearable\"), \"score\"] += 2\n",
        "    df.loc[title.str.contains(\"stress\"), \"score\"] += 1\n",
        "    df = df.sort_values([\"score\",\"downloadCount\"], ascending=[False, False])\n",
        "    return df[\"ref\"].iloc[0]\n",
        "\n",
        "slug = pick_slug(PREFERRED_DATASET)\n",
        "print(\"Chosen slug:\", slug)\n",
        "\n",
        "# 規約未同意だと 403 になる → URL を開いて同意してから再実行\n",
        "chk = subprocess.run([\"kaggle\",\"datasets\",\"files\",\"-d\", slug], capture_output=True, text=True)\n",
        "if \"403\" in chk.stderr or \"Forbidden\" in chk.stderr:\n",
        "    print(\"❗403 Forbidden: 規約同意が必要です。以下を開いて同意後、セルを再実行してください：\")\n",
        "    print(\"   https://www.kaggle.com/datasets/\" + slug)\n",
        "    raise SystemExit\n",
        "\n",
        "# ===== ダウンロード＆解凍（既にPKLがあればスキップ）=====\n",
        "def ensure_download(slug: str):\n",
        "    if any(DATA_ROOT.rglob(\"*.pkl\")):\n",
        "        print(\"⏭️ 既にPKLが見つかりました。ダウンロードをスキップします。\")\n",
        "        return\n",
        "    print(\"▶ ダウンロード中:\", slug)\n",
        "    subprocess.run([\"kaggle\",\"datasets\",\"download\",\"-d\", slug, \"-p\", str(DATA_ROOT)], check=True)\n",
        "    zips = list(DATA_ROOT.glob(\"*.zip\"))\n",
        "    if not zips:\n",
        "        print(\"⚠️ ZIPが見つかりません。データ構成により直下ZIPでない可能性があります。\")\n",
        "    for z in zips:\n",
        "        print(\"  解凍:\", z.name)\n",
        "        with zipfile.ZipFile(z) as f:\n",
        "            f.extractall(DATA_ROOT)\n",
        "        z.unlink()\n",
        "\n",
        "ensure_download(slug)\n",
        "\n",
        "# ===== PKL 検出 → DATA_PATH / SUBJECT_ID 設定 =====\n",
        "pkls = sorted(DATA_ROOT.rglob(\"S*.pkl\"))\n",
        "if not pkls:\n",
        "    print(\"⚠️ PKLが見つかりません。展開内容を確認します：\")\n",
        "    os.system(f\"ls -R {DATA_ROOT} | sed -n '1,200p'\")\n",
        "    raise SystemExit(\"このミラーは PKL ではなく CSV などの可能性があります。別の slug を指定するか、Drive上のWESADを使ってください。\")\n",
        "\n",
        "# PREFERRED_SUBJECT を優先。なければ先頭を使う\n",
        "pkl_path = next((p for p in pkls if p.name == f\"{PREFERRED_SUBJECT}.pkl\"), pkls[0])\n",
        "SUBJECT_ID = pkl_path.stem\n",
        "\n",
        "# 元ノートは f\\\"{DATA_PATH}{SUBJECT_ID}/{SUBJECT_ID}.pkl\\\" 形式 → S2ディレクトリの一つ上を DATA_PATH に設定し、末尾に '/'\n",
        "DATA_PATH = str(pkl_path.parent.parent) + \"/\"\n",
        "\n",
        "print(\"DATA_PATH =\", DATA_PATH)\n",
        "print(\"SUBJECT_ID =\", SUBJECT_ID)\n",
        "print(\"PKL path  =\", pkl_path)\n",
        "\n",
        "# ===== 読み込み（'data' を確実に定義）=====\n",
        "with open(pkl_path, \"rb\") as f:\n",
        "    data = pickle.load(f, encoding=\"latin1\")\n",
        "\n",
        "print(\"Loaded OK. type(data) =\", type(data))\n",
        "if isinstance(data, dict):\n",
        "    print(\"Top-level keys:\", list(data.keys())[:10])\n"
      ]
    },
    {
      "cell_type": "markdown",
      "metadata": {},
      "source": [
        "# このノートブックは Kaggle 上の公開ノートブックを参考にしています。  \n",
        "# WESAD データセット (Schmidt et al., 2018) を用いた HRV ベースのストレス分類のベースライン実装です。\n"
      ]
    },
    {
      "cell_type": "code",
      "execution_count": 5,
      "metadata": {
        "id": "NAo6KguacxuO"
      },
      "outputs": [],
      "source": [
        "# 依存の導入\n",
        "!pip -q install neurokit2 pywavelets seaborn\n",
        "\n",
        "# imports\n",
        "import numpy as np\n",
        "import pandas as pd\n",
        "import matplotlib.pyplot as plt\n",
        "import neurokit2 as nk\n",
        "import pywt\n",
        "import seaborn as sns\n",
        "\n",
        "plt.style.use('seaborn-v0_8-darkgrid')\n",
        "sns.set_palette('deep')\n",
        "\n",
        "# Colabでは /kaggle/input を歩く必要はありません（Kaggle環境ではないため）\n",
        "# ↓ このループは削除してOK\n",
        "# import os\n",
        "# for dirname, _, filenames in os.walk('/kaggle/input'):\n",
        "#     ...\n"
      ]
    },
    {
      "cell_type": "code",
      "execution_count": 3,
      "metadata": {
        "colab": {
          "base_uri": "https://localhost:8080/"
        },
        "execution": {
          "iopub.execute_input": "2025-08-13T16:58:26.366548Z",
          "iopub.status.busy": "2025-08-13T16:58:26.366174Z",
          "iopub.status.idle": "2025-08-13T16:58:32.619554Z",
          "shell.execute_reply": "2025-08-13T16:58:32.618489Z",
          "shell.execute_reply.started": "2025-08-13T16:58:26.366526Z"
        },
        "id": "9GKJLoEETUXn",
        "outputId": "604710be-120c-4646-aa0c-870e671a3558",
        "trusted": true
      },
      "outputs": [
        {
          "name": "stdout",
          "output_type": "stream",
          "text": [
            "Requirement already satisfied: neurokit2 in /usr/local/lib/python3.11/dist-packages (0.2.12)\n",
            "Requirement already satisfied: requests in /usr/local/lib/python3.11/dist-packages (from neurokit2) (2.32.3)\n",
            "Requirement already satisfied: numpy in /usr/local/lib/python3.11/dist-packages (from neurokit2) (2.0.2)\n",
            "Requirement already satisfied: pandas in /usr/local/lib/python3.11/dist-packages (from neurokit2) (2.2.2)\n",
            "Requirement already satisfied: scipy in /usr/local/lib/python3.11/dist-packages (from neurokit2) (1.16.1)\n",
            "Requirement already satisfied: scikit-learn>=1.0.0 in /usr/local/lib/python3.11/dist-packages (from neurokit2) (1.6.1)\n",
            "Requirement already satisfied: matplotlib>=3.5.0 in /usr/local/lib/python3.11/dist-packages (from neurokit2) (3.10.0)\n",
            "Requirement already satisfied: PyWavelets>=1.4.0 in /usr/local/lib/python3.11/dist-packages (from neurokit2) (1.9.0)\n",
            "Requirement already satisfied: contourpy>=1.0.1 in /usr/local/lib/python3.11/dist-packages (from matplotlib>=3.5.0->neurokit2) (1.3.3)\n",
            "Requirement already satisfied: cycler>=0.10 in /usr/local/lib/python3.11/dist-packages (from matplotlib>=3.5.0->neurokit2) (0.12.1)\n",
            "Requirement already satisfied: fonttools>=4.22.0 in /usr/local/lib/python3.11/dist-packages (from matplotlib>=3.5.0->neurokit2) (4.59.0)\n",
            "Requirement already satisfied: kiwisolver>=1.3.1 in /usr/local/lib/python3.11/dist-packages (from matplotlib>=3.5.0->neurokit2) (1.4.9)\n",
            "Requirement already satisfied: packaging>=20.0 in /usr/local/lib/python3.11/dist-packages (from matplotlib>=3.5.0->neurokit2) (25.0)\n",
            "Requirement already satisfied: pillow>=8 in /usr/local/lib/python3.11/dist-packages (from matplotlib>=3.5.0->neurokit2) (11.3.0)\n",
            "Requirement already satisfied: pyparsing>=2.3.1 in /usr/local/lib/python3.11/dist-packages (from matplotlib>=3.5.0->neurokit2) (3.2.3)\n",
            "Requirement already satisfied: python-dateutil>=2.7 in /usr/local/lib/python3.11/dist-packages (from matplotlib>=3.5.0->neurokit2) (2.9.0.post0)\n",
            "Requirement already satisfied: joblib>=1.2.0 in /usr/local/lib/python3.11/dist-packages (from scikit-learn>=1.0.0->neurokit2) (1.5.1)\n",
            "Requirement already satisfied: threadpoolctl>=3.1.0 in /usr/local/lib/python3.11/dist-packages (from scikit-learn>=1.0.0->neurokit2) (3.6.0)\n",
            "Requirement already satisfied: pytz>=2020.1 in /usr/local/lib/python3.11/dist-packages (from pandas->neurokit2) (2025.2)\n",
            "Requirement already satisfied: tzdata>=2022.7 in /usr/local/lib/python3.11/dist-packages (from pandas->neurokit2) (2025.2)\n",
            "Requirement already satisfied: charset-normalizer<4,>=2 in /usr/local/lib/python3.11/dist-packages (from requests->neurokit2) (3.4.3)\n",
            "Requirement already satisfied: idna<4,>=2.5 in /usr/local/lib/python3.11/dist-packages (from requests->neurokit2) (3.10)\n",
            "Requirement already satisfied: urllib3<3,>=1.21.1 in /usr/local/lib/python3.11/dist-packages (from requests->neurokit2) (2.5.0)\n",
            "Requirement already satisfied: certifi>=2017.4.17 in /usr/local/lib/python3.11/dist-packages (from requests->neurokit2) (2025.8.3)\n",
            "Requirement already satisfied: six>=1.5 in /usr/local/lib/python3.11/dist-packages (from python-dateutil>=2.7->matplotlib>=3.5.0->neurokit2) (1.17.0)\n"
          ]
        }
      ],
      "source": [
        "pip install neurokit2"
      ]
    },
    {
      "cell_type": "code",
      "execution_count": 6,
      "metadata": {
        "colab": {
          "base_uri": "https://localhost:8080/"
        },
        "id": "6KWle4Ncc4WN",
        "outputId": "e5578ec6-9edd-4dbf-a603-28de168b998d"
      },
      "outputs": [
        {
          "name": "stdout",
          "output_type": "stream",
          "text": [
            "Using DATA_PATH=/content/data/WESAD/  SUBJECT_ID=S2\n",
            "PKL path=/content/data/WESAD/S2/S2.pkl\n",
            "\n",
            "--- Data Structure Overview ---\n",
            "Top-level keys: ['signal', 'label', 'subject']\n",
            "Keys in signal data: ['chest', 'wrist']\n"
          ]
        }
      ],
      "source": [
        "# --- Ensure data exists (guard) ---\n",
        "from pathlib import Path\n",
        "import pickle\n",
        "if 'data' not in globals():\n",
        "    assert 'pkl_path' in globals(), \"pkl_path が未定義です。先頭セルを実行してください。\"\n",
        "    with open(pkl_path, \"rb\") as f:\n",
        "        data = pickle.load(f, encoding=\"latin1\")\n",
        "\n",
        "# SUBJECT_ID は先頭セルのものを使う（上書きしない）\n",
        "print(f\"Using DATA_PATH={DATA_PATH}  SUBJECT_ID={SUBJECT_ID}\")\n",
        "print(f\"PKL path={pkl_path}\")\n",
        "\n",
        "# --- Data Structure Overview ---\n",
        "from collections.abc import Mapping\n",
        "print(\"\\n--- Data Structure Overview ---\")\n",
        "if isinstance(data, Mapping):\n",
        "    print(\"Top-level keys:\", list(data.keys())[:20])\n",
        "\n",
        "    # WESADでよくある3パターンを吸収\n",
        "    signal_data = None\n",
        "    if 'signal' in data:\n",
        "        signal_data = data['signal']\n",
        "    elif 'signals' in data:\n",
        "        signal_data = data['signals']\n",
        "    elif any(k in data for k in ('chest', 'wrist')):\n",
        "        signal_data = {'chest': data.get('chest'), 'wrist': data.get('wrist')}\n",
        "\n",
        "    if isinstance(signal_data, Mapping):\n",
        "        print(\"Keys in signal data:\", list(signal_data.keys())[:20])\n",
        "    else:\n",
        "        print(\"signal_data structure not dict-like:\", type(signal_data))\n",
        "else:\n",
        "    print(\"data is not a dict:\", type(data))\n"
      ]
    },
    {
      "cell_type": "markdown",
      "metadata": {
        "id": "lV8SgEr0dQHf"
      },
      "source": [
        "ここのセルは必要ないかも"
      ]
    },
    {
      "cell_type": "code",
      "execution_count": 4,
      "metadata": {
        "colab": {
          "base_uri": "https://localhost:8080/"
        },
        "execution": {
          "iopub.execute_input": "2025-08-13T16:58:32.620847Z",
          "iopub.status.busy": "2025-08-13T16:58:32.62056Z",
          "iopub.status.idle": "2025-08-13T16:58:45.709944Z",
          "shell.execute_reply": "2025-08-13T16:58:45.708964Z",
          "shell.execute_reply.started": "2025-08-13T16:58:32.620821Z"
        },
        "id": "I1htz0UrTUXn",
        "outputId": "2aa83834-f5eb-4c6e-8978-d0a52b9b2a3a",
        "trusted": true
      },
      "outputs": [
        {
          "name": "stdout",
          "output_type": "stream",
          "text": [
            "--- Preprocessing for Subject: S2 ---\n",
            "Loading data for S2 from /content/data/WESAD/S2/S2.pkl...\n",
            "Data loaded successfully.\n"
          ]
        }
      ],
      "source": [
        "import pickle\n",
        "import numpy as np\n",
        "import pandas as pd\n",
        "import matplotlib.pyplot as plt\n",
        "import neurokit2 as nk # Excellent for biosignal processing\n",
        "import pywt # For wavelet transforms\n",
        "import seaborn as sns\n",
        "\n",
        "# --- Configuration ---\n",
        "# IMPORTANT: Adjust this path to where your WESAD dataset is located on Kaggle\n",
        "#DATA_PATH = '/kaggle/input/wesad-wearable-stress-affect-detection-dataset/WESAD/'\n",
        "SUBJECT_ID = 'S2' # Example subject ID to process\n",
        "ECG_SAMPLING_RATE_RESP = 700 # Hz (from WESAD documentation for RespiBAN ECG)\n",
        "LABEL_SAMPLING_RATE = 700 # Hz (from WESAD documentation for labels)\n",
        "HRV_INTERPOLATION_RATE = 4 # Hz (Common for HRV spectral analysis, as per RHRV example in the wavelet paper)\n",
        "WINDOW_SIZE_SEC = 300 # 5 minutes for rolling feature aggregation\n",
        "WINDOW_OVERLAP_SEC = 60 # 1 minute overlap for smooth features\n",
        "\n",
        "# Set a style for plots\n",
        "plt.style.use('seaborn-v0_8-darkgrid')\n",
        "sns.set_palette('deep')\n",
        "\n",
        "print(f\"--- Preprocessing for Subject: {SUBJECT_ID} ---\")\n",
        "\n",
        "# 1. Load Data\n",
        "print(f\"Loading data for {SUBJECT_ID} from {DATA_PATH}{SUBJECT_ID}/{SUBJECT_ID}.pkl...\")\n",
        "try:\n",
        "    with open(f\"{DATA_PATH}{SUBJECT_ID}/{SUBJECT_ID}.pkl\", 'rb') as f:\n",
        "        data = pickle.load(f, encoding='latin1') # Use latin1 for Python 3 compatibility with older pickle files\n",
        "    print(\"Data loaded successfully.\")\n",
        "except FileNotFoundError:\n",
        "    print(f\"Error: {DATA_PATH}{SUBJECT_ID}/{SUBJECT_ID}.pkl not found. Please check DATA_PATH.\")\n",
        "    exit()"
      ]
    },
    {
      "cell_type": "code",
      "execution_count": 7,
      "metadata": {
        "colab": {
          "base_uri": "https://localhost:8080/"
        },
        "execution": {
          "iopub.execute_input": "2025-08-13T16:58:45.711465Z",
          "iopub.status.busy": "2025-08-13T16:58:45.710954Z",
          "iopub.status.idle": "2025-08-13T16:58:45.7183Z",
          "shell.execute_reply": "2025-08-13T16:58:45.71737Z",
          "shell.execute_reply.started": "2025-08-13T16:58:45.71143Z"
        },
        "id": "gDs32cXbTUXo",
        "outputId": "22d28f39-8d40-416b-8d35-1ab0851b56fb",
        "trusted": true
      },
      "outputs": [
        {
          "name": "stdout",
          "output_type": "stream",
          "text": [
            "\n",
            "--- Data Structure Overview ---\n",
            "Keys in loaded data: dict_keys(['signal', 'label', 'subject'])\n",
            "Keys in signal data: dict_keys(['chest', 'wrist'])\n",
            "Keys in chest data: dict_keys(['ACC', 'ECG', 'EMG', 'EDA', 'Temp', 'Resp'])\n",
            "ECG signal shape: (4255300, 1)\n",
            "Labels shape: (4255300,)\n"
          ]
        }
      ],
      "source": [
        "print(\"\\n--- Data Structure Overview ---\")\n",
        "print(f\"Keys in loaded data: {data.keys()}\")\n",
        "\n",
        "signal_data = data['signal']\n",
        "print(f\"Keys in signal data: {signal_data.keys()}\")\n",
        "\n",
        "chest_data = signal_data['chest']\n",
        "print(f\"Keys in chest data: {chest_data.keys()}\")\n",
        "\n",
        "# Extract ECG and labels\n",
        "ecg_signal = chest_data['ECG']\n",
        "labels = data['label']\n",
        "\n",
        "print(f\"ECG signal shape: {ecg_signal.shape}\")\n",
        "print(f\"Labels shape: {labels.shape}\")"
      ]
    },
    {
      "cell_type": "code",
      "execution_count": 8,
      "metadata": {
        "colab": {
          "base_uri": "https://localhost:8080/",
          "height": 712
        },
        "execution": {
          "iopub.execute_input": "2025-08-13T16:58:45.719673Z",
          "iopub.status.busy": "2025-08-13T16:58:45.719354Z",
          "iopub.status.idle": "2025-08-13T16:58:46.686424Z",
          "shell.execute_reply": "2025-08-13T16:58:46.685531Z",
          "shell.execute_reply.started": "2025-08-13T16:58:45.719645Z"
        },
        "id": "_pGpWEERTUXo",
        "outputId": "b09519b6-4201-4f6e-dc78-5de5a1770af2",
        "trusted": true
      },
      "outputs": [
        {
          "data": {
            "image/png": "[encoded data removed]",
            "text/plain": [
              "<Figure size 1500x400 with 1 Axes>"
            ]
          },
          "metadata": {},
          "output_type": "display_data"
        },
        {
          "data": {
            "image/png": "[encoded data removed]",
            "text/plain": [
              "<Figure size 1500x300 with 1 Axes>"
            ]
          },
          "metadata": {},
          "output_type": "display_data"
        }
      ],
      "source": [
        "plt.figure(figsize=(15, 4))\n",
        "plt.plot(np.arange(len(ecg_signal[:ECG_SAMPLING_RATE_RESP*10])) / ECG_SAMPLING_RATE_RESP,\n",
        "         ecg_signal[:ECG_SAMPLING_RATE_RESP*10])\n",
        "plt.title(f'Raw ECG Signal (first 10 seconds) - Subject {SUBJECT_ID}')\n",
        "plt.xlabel('Time (s)')\n",
        "plt.ylabel('Amplitude')\n",
        "plt.show()\n",
        "\n",
        "plt.figure(figsize=(15, 3))\n",
        "plt.plot(np.arange(len(labels)) / LABEL_SAMPLING_RATE, labels, alpha=0.7)\n",
        "plt.title('Study protocol labels')\n",
        "plt.xlabel('Time (s)')\n",
        "plt.ylabel('Label')\n",
        "plt.show()\n"
      ]
    },
    {
      "cell_type": "code",
      "execution_count": 9,
      "metadata": {
        "colab": {
          "base_uri": "https://localhost:8080/"
        },
        "execution": {
          "iopub.execute_input": "2025-08-13T16:58:46.687865Z",
          "iopub.status.busy": "2025-08-13T16:58:46.687463Z",
          "iopub.status.idle": "2025-08-13T16:58:47.813762Z",
          "shell.execute_reply": "2025-08-13T16:58:47.812871Z",
          "shell.execute_reply.started": "2025-08-13T16:58:46.687831Z"
        },
        "id": "2ob51SKTTUXo",
        "outputId": "87984df8-c4ce-4e70-80a9-8bb3989e9402",
        "trusted": true
      },
      "outputs": [
        {
          "name": "stdout",
          "output_type": "stream",
          "text": [
            "\n",
            "--- II. RR Interval Extraction from ECG ---\n",
            "Processing ECG signal of length 4255300 samples at 700 Hz...\n",
            "Cleaning ECG signal...\n",
            "Detecting R-peaks...\n",
            "Detected 7250 R-peaks.\n",
            "Calculated 7249 RR intervals.\n",
            "First 5 RR intervals:\n",
            "   Time_sec       RR_ms\n",
            "0  1.725714  727.142857\n",
            "1  2.492857  767.142857\n",
            "2  3.397143  904.285714\n",
            "3  4.288571  891.428571\n",
            "4  5.195714  907.142857\n"
          ]
        }
      ],
      "source": [
        "print(\"\\n--- II. RR Interval Extraction from ECG ---\")\n",
        "\n",
        "print(f\"Processing ECG signal of length {len(ecg_signal)} samples at {ECG_SAMPLING_RATE_RESP} Hz...\")\n",
        "\n",
        "# Initialize variables to safe defaults\n",
        "rr_df = pd.DataFrame()\n",
        "rpeaks_indices = np.array([])\n",
        "\n",
        "try:\n",
        "    # Clean ECG signal\n",
        "    print(\"Cleaning ECG signal...\")\n",
        "    cleaned_ecg = nk.ecg_clean(ecg_signal, sampling_rate=ECG_SAMPLING_RATE_RESP)\n",
        "\n",
        "    # Detect R-peaks\n",
        "    print(\"Detecting R-peaks...\")\n",
        "    _, rpeaks = nk.ecg_peaks(cleaned_ecg, sampling_rate=ECG_SAMPLING_RATE_RESP)\n",
        "\n",
        "    # Extract R-peak indices\n",
        "    rpeaks_indices = rpeaks['ECG_R_Peaks']\n",
        "\n",
        "    print(f\"Detected {len(rpeaks_indices)} R-peaks.\")\n",
        "\n",
        "    if len(rpeaks_indices) > 1:\n",
        "        # Compute RR intervals in ms\n",
        "        rr_intervals_ms = np.diff(rpeaks_indices) / ECG_SAMPLING_RATE_RESP * 1000\n",
        "        rr_times_sec = rpeaks_indices[1:] / ECG_SAMPLING_RATE_RESP\n",
        "\n",
        "        rr_df = pd.DataFrame({'Time_sec': rr_times_sec, 'RR_ms': rr_intervals_ms})\n",
        "\n",
        "        print(f\"Calculated {len(rr_intervals_ms)} RR intervals.\")\n",
        "        print(f\"First 5 RR intervals:\\n{rr_df.head()}\")\n",
        "    else:\n",
        "        print(\"Too few R-peaks to compute RR intervals.\")\n",
        "\n",
        "except Exception as e:\n",
        "    print(f\"An error occurred: {e}\")\n"
      ]
    },
    {
      "cell_type": "code",
      "execution_count": 10,
      "metadata": {
        "colab": {
          "base_uri": "https://localhost:8080/",
          "height": 403
        },
        "execution": {
          "iopub.execute_input": "2025-08-13T16:58:47.816623Z",
          "iopub.status.busy": "2025-08-13T16:58:47.816339Z",
          "iopub.status.idle": "2025-08-13T16:58:48.011186Z",
          "shell.execute_reply": "2025-08-13T16:58:48.010323Z",
          "shell.execute_reply.started": "2025-08-13T16:58:47.816603Z"
        },
        "id": "ggBxc0PnTUXp",
        "outputId": "c9545d24-8868-4b23-ce83-3d470a283034",
        "trusted": true
      },
      "outputs": [
        {
          "data": {
            "image/png": "[encoded data removed]",
            "text/plain": [
              "<Figure size 1200x400 with 1 Axes>"
            ]
          },
          "metadata": {},
          "output_type": "display_data"
        }
      ],
      "source": [
        "plt.figure(figsize=(12,4))\n",
        "plt.plot(rr_df['Time_sec'], rr_df['RR_ms'])\n",
        "plt.title(f'RR intervals over time - Subject {SUBJECT_ID}')\n",
        "plt.xlabel('Time (s)')\n",
        "plt.ylabel('RR interval (ms)')\n",
        "plt.show()"
      ]
    },
    {
      "cell_type": "code",
      "execution_count": 11,
      "metadata": {
        "colab": {
          "base_uri": "https://localhost:8080/"
        },
        "execution": {
          "iopub.execute_input": "2025-08-13T16:58:48.012362Z",
          "iopub.status.busy": "2025-08-13T16:58:48.012036Z",
          "iopub.status.idle": "2025-08-13T16:59:01.02284Z",
          "shell.execute_reply": "2025-08-13T16:59:01.021908Z",
          "shell.execute_reply.started": "2025-08-13T16:58:48.012334Z"
        },
        "id": "NQeKz4VITUXp",
        "outputId": "ad422324-0580-4f5e-fd64-3fd822d665a9",
        "trusted": true
      },
      "outputs": [
        {
          "name": "stdout",
          "output_type": "stream",
          "text": [
            "\n",
            "--- Sliding window HRV feature extraction ---\n",
            "Window size: 84000 samples\n",
            "Step size: 42000 samples\n",
            "Window starting at 0: 151 peaks\n",
            "Window starting at 42000: 151 peaks\n",
            "Window starting at 84000: 150 peaks\n",
            "Window starting at 126000: 147 peaks\n",
            "Window starting at 168000: 152 peaks\n",
            "Window starting at 210000: 151 peaks\n",
            "Window starting at 252000: 145 peaks\n",
            "Window starting at 294000: 147 peaks\n",
            "Window starting at 336000: 146 peaks\n",
            "Window starting at 378000: 144 peaks\n",
            "Window starting at 420000: 143 peaks\n",
            "Window starting at 462000: 143 peaks\n",
            "Window starting at 504000: 145 peaks\n",
            "Window starting at 546000: 146 peaks\n",
            "Window starting at 588000: 144 peaks\n",
            "Window starting at 630000: 142 peaks\n",
            "Window starting at 672000: 141 peaks\n",
            "Window starting at 714000: 141 peaks\n",
            "Window starting at 756000: 139 peaks\n",
            "Window starting at 798000: 140 peaks\n",
            "Window starting at 840000: 143 peaks\n",
            "Window starting at 882000: 147 peaks\n",
            "Window starting at 924000: 153 peaks\n",
            "Window starting at 966000: 151 peaks\n",
            "Window starting at 1008000: 142 peaks\n",
            "Window starting at 1050000: 139 peaks\n",
            "Window starting at 1092000: 141 peaks\n",
            "Window starting at 1134000: 141 peaks\n",
            "Window starting at 1176000: 142 peaks\n",
            "Window starting at 1218000: 148 peaks\n",
            "Window starting at 1260000: 143 peaks\n",
            "Window starting at 1302000: 145 peaks\n",
            "Window starting at 1344000: 155 peaks\n",
            "Window starting at 1386000: 153 peaks\n",
            "Window starting at 1428000: 153 peaks\n",
            "Window starting at 1470000: 158 peaks\n",
            "Window starting at 1512000: 167 peaks\n",
            "Window starting at 1554000: 167 peaks\n",
            "Window starting at 1596000: 162 peaks\n",
            "Window starting at 1638000: 158 peaks\n",
            "Window starting at 1680000: 160 peaks\n",
            "Window starting at 1722000: 156 peaks\n",
            "Window starting at 1764000: 149 peaks\n",
            "Window starting at 1806000: 149 peaks\n",
            "Window starting at 1848000: 147 peaks\n",
            "Window starting at 1890000: 150 peaks\n",
            "Window starting at 1932000: 151 peaks\n",
            "Window starting at 1974000: 152 peaks\n",
            "Window starting at 2016000: 151 peaks\n",
            "Window starting at 2058000: 144 peaks\n",
            "Window starting at 2100000: 142 peaks\n",
            "Window starting at 2142000: 147 peaks\n",
            "Window starting at 2184000: 148 peaks\n",
            "Window starting at 2226000: 146 peaks\n",
            "Window starting at 2268000: 150 peaks\n",
            "Window starting at 2310000: 151 peaks\n",
            "Window starting at 2352000: 152 peaks\n",
            "Window starting at 2394000: 150 peaks\n",
            "Window starting at 2436000: 143 peaks\n",
            "Window starting at 2478000: 141 peaks\n",
            "Window starting at 2520000: 138 peaks\n",
            "Window starting at 2562000: 134 peaks\n",
            "Window starting at 2604000: 134 peaks\n",
            "Window starting at 2646000: 140 peaks\n",
            "Window starting at 2688000: 143 peaks\n",
            "Window starting at 2730000: 144 peaks\n",
            "Window starting at 2772000: 146 peaks\n",
            "Window starting at 2814000: 140 peaks\n",
            "Window starting at 2856000: 132 peaks\n",
            "Window starting at 2898000: 132 peaks\n",
            "Window starting at 2940000: 133 peaks\n",
            "Window starting at 2982000: 133 peaks\n",
            "Window starting at 3024000: 141 peaks\n",
            "Window starting at 3066000: 144 peaks\n",
            "Window starting at 3108000: 139 peaks\n",
            "Window starting at 3150000: 141 peaks\n",
            "Window starting at 3192000: 143 peaks\n",
            "Window starting at 3234000: 141 peaks\n",
            "Window starting at 3276000: 135 peaks\n",
            "Window starting at 3318000: 133 peaks\n",
            "Window starting at 3360000: 136 peaks\n",
            "Window starting at 3402000: 133 peaks\n",
            "Window starting at 3444000: 134 peaks\n",
            "Window starting at 3486000: 135 peaks\n",
            "Window starting at 3528000: 132 peaks\n",
            "Window starting at 3570000: 136 peaks\n",
            "Window starting at 3612000: 141 peaks\n",
            "Window starting at 3654000: 139 peaks\n",
            "Window starting at 3696000: 132 peaks\n",
            "Window starting at 3738000: 130 peaks\n",
            "Window starting at 3780000: 135 peaks\n",
            "Window starting at 3822000: 138 peaks\n",
            "Window starting at 3864000: 136 peaks\n",
            "Window starting at 3906000: 135 peaks\n",
            "Window starting at 3948000: 134 peaks\n",
            "Window starting at 3990000: 128 peaks\n",
            "Window starting at 4032000: 127 peaks\n"
          ]
        },
        {
          "name": "stderr",
          "output_type": "stream",
          "text": [
            "/usr/local/lib/python3.11/dist-packages/neurokit2/hrv/hrv_nonlinear.py:536: NeuroKitWarning: DFA_alpha2 related indices will not be calculated. The maximum duration of the windows provided for the long-term correlation is smaller than the minimum duration of windows. Refer to the `scale` argument in `nk.fractal_dfa()` for more information.\n",
            "  warn(\n",
            "/usr/local/lib/python3.11/dist-packages/neurokit2/hrv/hrv_nonlinear.py:536: NeuroKitWarning: DFA_alpha2 related indices will not be calculated. The maximum duration of the windows provided for the long-term correlation is smaller than the minimum duration of windows. Refer to the `scale` argument in `nk.fractal_dfa()` for more information.\n",
            "  warn(\n"
          ]
        },
        {
          "name": "stdout",
          "output_type": "stream",
          "text": [
            "Window starting at 4074000: 129 peaks\n"
          ]
        },
        {
          "name": "stderr",
          "output_type": "stream",
          "text": [
            "/usr/local/lib/python3.11/dist-packages/neurokit2/hrv/hrv_nonlinear.py:536: NeuroKitWarning: DFA_alpha2 related indices will not be calculated. The maximum duration of the windows provided for the long-term correlation is smaller than the minimum duration of windows. Refer to the `scale` argument in `nk.fractal_dfa()` for more information.\n",
            "  warn(\n"
          ]
        },
        {
          "name": "stdout",
          "output_type": "stream",
          "text": [
            "Window starting at 4116000: 128 peaks\n"
          ]
        },
        {
          "name": "stderr",
          "output_type": "stream",
          "text": [
            "/usr/local/lib/python3.11/dist-packages/neurokit2/hrv/hrv_nonlinear.py:536: NeuroKitWarning: DFA_alpha2 related indices will not be calculated. The maximum duration of the windows provided for the long-term correlation is smaller than the minimum duration of windows. Refer to the `scale` argument in `nk.fractal_dfa()` for more information.\n",
            "  warn(\n"
          ]
        },
        {
          "name": "stdout",
          "output_type": "stream",
          "text": [
            "Window starting at 4158000: 123 peaks\n",
            "\n",
            "--- HRV Feature Table ---\n",
            "Shape: (100, 93)\n",
            "Columns: Index(['HRV_MeanNN', 'HRV_SDNN', 'HRV_SDANN1', 'HRV_SDNNI1', 'HRV_SDANN2',\n",
            "       'HRV_SDNNI2', 'HRV_SDANN5', 'HRV_SDNNI5', 'HRV_RMSSD', 'HRV_SDSD',\n",
            "       'HRV_CVNN', 'HRV_CVSD', 'HRV_MedianNN', 'HRV_MadNN', 'HRV_MCVNN',\n",
            "       'HRV_IQRNN', 'HRV_SDRMSSD', 'HRV_Prc20NN', 'HRV_Prc80NN', 'HRV_pNN50',\n",
            "       'HRV_pNN20', 'HRV_MinNN', 'HRV_MaxNN', 'HRV_HTI', 'HRV_TINN', 'HRV_ULF',\n",
            "       'HRV_VLF', 'HRV_LF', 'HRV_HF', 'HRV_VHF', 'HRV_TP', 'HRV_LFHF',\n",
            "       'HRV_LFn', 'HRV_HFn', 'HRV_LnHF', 'HRV_SD1', 'HRV_SD2', 'HRV_SD1SD2',\n",
            "       'HRV_S', 'HRV_CSI', 'HRV_CVI', 'HRV_CSI_Modified', 'HRV_PIP',\n",
            "       'HRV_IALS', 'HRV_PSS', 'HRV_PAS', 'HRV_GI', 'HRV_SI', 'HRV_AI',\n",
            "       'HRV_PI', 'HRV_C1d', 'HRV_C1a', 'HRV_SD1d', 'HRV_SD1a', 'HRV_C2d',\n",
            "       'HRV_C2a', 'HRV_SD2d', 'HRV_SD2a', 'HRV_Cd', 'HRV_Ca', 'HRV_SDNNd',\n",
            "       'HRV_SDNNa', 'HRV_DFA_alpha1', 'HRV_MFDFA_alpha1_Width',\n",
            "       'HRV_MFDFA_alpha1_Peak', 'HRV_MFDFA_alpha1_Mean',\n",
            "       'HRV_MFDFA_alpha1_Max', 'HRV_MFDFA_alpha1_Delta',\n",
            "       'HRV_MFDFA_alpha1_Asymmetry', 'HRV_MFDFA_alpha1_Fluctuation',\n",
            "       'HRV_MFDFA_alpha1_Increment', 'HRV_DFA_alpha2',\n",
            "       'HRV_MFDFA_alpha2_Width', 'HRV_MFDFA_alpha2_Peak',\n",
            "       'HRV_MFDFA_alpha2_Mean', 'HRV_MFDFA_alpha2_Max',\n",
            "       'HRV_MFDFA_alpha2_Delta', 'HRV_MFDFA_alpha2_Asymmetry',\n",
            "       'HRV_MFDFA_alpha2_Fluctuation', 'HRV_MFDFA_alpha2_Increment',\n",
            "       'HRV_ApEn', 'HRV_SampEn', 'HRV_ShanEn', 'HRV_FuzzyEn', 'HRV_MSEn',\n",
            "       'HRV_CMSEn', 'HRV_RCMSEn', 'HRV_CD', 'HRV_HFD', 'HRV_KFD', 'HRV_LZC',\n",
            "       'Time', 'Label'],\n",
            "      dtype='object')\n",
            "Unique labels: [0 1 2 6 4 3 7]\n",
            "   HRV_MeanNN   HRV_SDNN  HRV_SDANN1  HRV_SDNNI1  HRV_SDANN2  HRV_SDNNI2  \\\n",
            "0  789.895238  70.512456         NaN         NaN         NaN         NaN   \n",
            "1  798.123810  59.875719         NaN         NaN         NaN         NaN   \n",
            "2  801.831256  65.653002         NaN         NaN         NaN         NaN   \n",
            "3  813.884540  72.077982         NaN         NaN         NaN         NaN   \n",
            "4  785.960265  97.903154         NaN         NaN         NaN         NaN   \n",
            "\n",
            "   HRV_SDANN5  HRV_SDNNI5  HRV_RMSSD   HRV_SDSD  ...  HRV_FuzzyEn  HRV_MSEn  \\\n",
            "0         NaN         NaN  42.636858  42.776894  ...     0.978840  1.205515   \n",
            "1         NaN         NaN  45.501362  45.654333  ...     1.180209  1.495348   \n",
            "2         NaN         NaN  52.160440  52.335660  ...     1.210210  1.459861   \n",
            "3         NaN         NaN  53.213815  53.392260  ...     1.187921  1.495285   \n",
            "4         NaN         NaN  57.478183  57.664184  ...     0.960591  1.522972   \n",
            "\n",
            "   HRV_CMSEn  HRV_RCMSEn    HRV_CD   HRV_HFD   HRV_KFD   HRV_LZC   Time  Label  \n",
            "0   1.338106    1.996535  1.814018  1.640532  2.411152  0.867458   60.0      0  \n",
            "1   1.353051    1.954381  1.734778  1.737769  3.051854  0.915650  120.0      0  \n",
            "2   1.328129    1.682563  1.833905  1.758393  3.379043  0.969016  180.0      0  \n",
            "3   1.296014    2.006232  1.944922  1.725520  3.153616  0.886417  240.0      0  \n",
            "4   1.077962    1.870166  1.745714  1.608124  2.984088  0.719047  300.0      0  \n",
            "\n",
            "[5 rows x 93 columns]\n"
          ]
        },
        {
          "name": "stderr",
          "output_type": "stream",
          "text": [
            "/usr/local/lib/python3.11/dist-packages/neurokit2/hrv/hrv_nonlinear.py:536: NeuroKitWarning: DFA_alpha2 related indices will not be calculated. The maximum duration of the windows provided for the long-term correlation is smaller than the minimum duration of windows. Refer to the `scale` argument in `nk.fractal_dfa()` for more information.\n",
            "  warn(\n"
          ]
        }
      ],
      "source": [
        "print(\"\\n--- Sliding window HRV feature extraction ---\")\n",
        "\n",
        "WINDOW_SIZE_SEC = 120  # try 2 minutes\n",
        "WINDOW_STEP_SEC = 60   # 1-minute overlap\n",
        "window_size_samples = WINDOW_SIZE_SEC * ECG_SAMPLING_RATE_RESP\n",
        "step_size_samples = WINDOW_STEP_SEC * ECG_SAMPLING_RATE_RESP\n",
        "\n",
        "print(f\"Window size: {window_size_samples} samples\")\n",
        "print(f\"Step size: {step_size_samples} samples\")\n",
        "\n",
        "hrv_features_list = []\n",
        "\n",
        "for start in range(0, len(ecg_signal) - window_size_samples, step_size_samples):\n",
        "    end = start + window_size_samples\n",
        "    window_center_sec = (start + end) / 2 / ECG_SAMPLING_RATE_RESP\n",
        "\n",
        "    # Find R-peaks in this window\n",
        "    peaks_in_window = rpeaks_indices[(rpeaks_indices >= start) & (rpeaks_indices < end)] - start\n",
        "\n",
        "    print(f\"Window starting at {start}: {len(peaks_in_window)} peaks\")\n",
        "\n",
        "    if len(peaks_in_window) > 2:\n",
        "        # Build peaks DataFrame expected by nk.hrv\n",
        "        peaks_df = pd.DataFrame({\"ECG_R_Peaks\": np.zeros(window_size_samples, dtype=bool)})\n",
        "        peaks_df.loc[peaks_in_window, \"ECG_R_Peaks\"] = True\n",
        "\n",
        "        try:\n",
        "            hrv = nk.hrv(peaks_df, sampling_rate=ECG_SAMPLING_RATE_RESP, show=False)\n",
        "            hrv_row = hrv.iloc[0].to_dict()\n",
        "\n",
        "            # Add time and label\n",
        "            window_labels = labels[start:end]\n",
        "            most_common_label = np.bincount(window_labels).argmax()\n",
        "            hrv_row[\"Time\"] = window_center_sec\n",
        "            hrv_row[\"Label\"] = most_common_label\n",
        "\n",
        "            hrv_features_list.append(hrv_row)\n",
        "\n",
        "        except Exception as e:\n",
        "            print(f\"Error computing HRV in window starting at {start}: {e}\")\n",
        "    else:\n",
        "        print(f\"Too few peaks in window starting at {start}, skipping.\")\n",
        "\n",
        "# Convert to DataFrame\n",
        "df_features = pd.DataFrame(hrv_features_list)\n",
        "print(\"\\n--- HRV Feature Table ---\")\n",
        "print(\"Shape:\", df_features.shape)\n",
        "print(\"Columns:\", df_features.columns)\n",
        "if not df_features.empty:\n",
        "    print(\"Unique labels:\", df_features[\"Label\"].unique())\n",
        "    print(df_features.head())\n",
        "else:\n",
        "    print(\"No HRV features extracted.\")\n"
      ]
    },
    {
      "cell_type": "code",
      "execution_count": 12,
      "metadata": {
        "colab": {
          "base_uri": "https://localhost:8080/"
        },
        "execution": {
          "iopub.execute_input": "2025-08-13T16:59:01.024237Z",
          "iopub.status.busy": "2025-08-13T16:59:01.023926Z",
          "iopub.status.idle": "2025-08-13T16:59:01.038438Z",
          "shell.execute_reply": "2025-08-13T16:59:01.037393Z",
          "shell.execute_reply.started": "2025-08-13T16:59:01.02421Z"
        },
        "id": "XFTZB29JTUXp",
        "outputId": "4338c890-358a-4e6e-9316-6b11e6ad61e4",
        "trusted": true
      },
      "outputs": [
        {
          "name": "stdout",
          "output_type": "stream",
          "text": [
            "\n",
            "--- HRV Feature Table ---\n",
            "Shape: (100, 93)\n",
            "Columns: Index(['HRV_MeanNN', 'HRV_SDNN', 'HRV_SDANN1', 'HRV_SDNNI1', 'HRV_SDANN2',\n",
            "       'HRV_SDNNI2', 'HRV_SDANN5', 'HRV_SDNNI5', 'HRV_RMSSD', 'HRV_SDSD',\n",
            "       'HRV_CVNN', 'HRV_CVSD', 'HRV_MedianNN', 'HRV_MadNN', 'HRV_MCVNN',\n",
            "       'HRV_IQRNN', 'HRV_SDRMSSD', 'HRV_Prc20NN', 'HRV_Prc80NN', 'HRV_pNN50',\n",
            "       'HRV_pNN20', 'HRV_MinNN', 'HRV_MaxNN', 'HRV_HTI', 'HRV_TINN', 'HRV_ULF',\n",
            "       'HRV_VLF', 'HRV_LF', 'HRV_HF', 'HRV_VHF', 'HRV_TP', 'HRV_LFHF',\n",
            "       'HRV_LFn', 'HRV_HFn', 'HRV_LnHF', 'HRV_SD1', 'HRV_SD2', 'HRV_SD1SD2',\n",
            "       'HRV_S', 'HRV_CSI', 'HRV_CVI', 'HRV_CSI_Modified', 'HRV_PIP',\n",
            "       'HRV_IALS', 'HRV_PSS', 'HRV_PAS', 'HRV_GI', 'HRV_SI', 'HRV_AI',\n",
            "       'HRV_PI', 'HRV_C1d', 'HRV_C1a', 'HRV_SD1d', 'HRV_SD1a', 'HRV_C2d',\n",
            "       'HRV_C2a', 'HRV_SD2d', 'HRV_SD2a', 'HRV_Cd', 'HRV_Ca', 'HRV_SDNNd',\n",
            "       'HRV_SDNNa', 'HRV_DFA_alpha1', 'HRV_MFDFA_alpha1_Width',\n",
            "       'HRV_MFDFA_alpha1_Peak', 'HRV_MFDFA_alpha1_Mean',\n",
            "       'HRV_MFDFA_alpha1_Max', 'HRV_MFDFA_alpha1_Delta',\n",
            "       'HRV_MFDFA_alpha1_Asymmetry', 'HRV_MFDFA_alpha1_Fluctuation',\n",
            "       'HRV_MFDFA_alpha1_Increment', 'HRV_DFA_alpha2',\n",
            "       'HRV_MFDFA_alpha2_Width', 'HRV_MFDFA_alpha2_Peak',\n",
            "       'HRV_MFDFA_alpha2_Mean', 'HRV_MFDFA_alpha2_Max',\n",
            "       'HRV_MFDFA_alpha2_Delta', 'HRV_MFDFA_alpha2_Asymmetry',\n",
            "       'HRV_MFDFA_alpha2_Fluctuation', 'HRV_MFDFA_alpha2_Increment',\n",
            "       'HRV_ApEn', 'HRV_SampEn', 'HRV_ShanEn', 'HRV_FuzzyEn', 'HRV_MSEn',\n",
            "       'HRV_CMSEn', 'HRV_RCMSEn', 'HRV_CD', 'HRV_HFD', 'HRV_KFD', 'HRV_LZC',\n",
            "       'Time', 'Label'],\n",
            "      dtype='object')\n",
            "Unique labels: [0 1 2 6 4 3 7]\n",
            "   HRV_MeanNN   HRV_SDNN  HRV_SDANN1  HRV_SDNNI1  HRV_SDANN2  HRV_SDNNI2  \\\n",
            "0  789.895238  70.512456         NaN         NaN         NaN         NaN   \n",
            "1  798.123810  59.875719         NaN         NaN         NaN         NaN   \n",
            "2  801.831256  65.653002         NaN         NaN         NaN         NaN   \n",
            "3  813.884540  72.077982         NaN         NaN         NaN         NaN   \n",
            "4  785.960265  97.903154         NaN         NaN         NaN         NaN   \n",
            "\n",
            "   HRV_SDANN5  HRV_SDNNI5  HRV_RMSSD   HRV_SDSD  ...  HRV_FuzzyEn  HRV_MSEn  \\\n",
            "0         NaN         NaN  42.636858  42.776894  ...     0.978840  1.205515   \n",
            "1         NaN         NaN  45.501362  45.654333  ...     1.180209  1.495348   \n",
            "2         NaN         NaN  52.160440  52.335660  ...     1.210210  1.459861   \n",
            "3         NaN         NaN  53.213815  53.392260  ...     1.187921  1.495285   \n",
            "4         NaN         NaN  57.478183  57.664184  ...     0.960591  1.522972   \n",
            "\n",
            "   HRV_CMSEn  HRV_RCMSEn    HRV_CD   HRV_HFD   HRV_KFD   HRV_LZC   Time  Label  \n",
            "0   1.338106    1.996535  1.814018  1.640532  2.411152  0.867458   60.0      0  \n",
            "1   1.353051    1.954381  1.734778  1.737769  3.051854  0.915650  120.0      0  \n",
            "2   1.328129    1.682563  1.833905  1.758393  3.379043  0.969016  180.0      0  \n",
            "3   1.296014    2.006232  1.944922  1.725520  3.153616  0.886417  240.0      0  \n",
            "4   1.077962    1.870166  1.745714  1.608124  2.984088  0.719047  300.0      0  \n",
            "\n",
            "[5 rows x 93 columns]\n"
          ]
        }
      ],
      "source": [
        "print(\"\\n--- HRV Feature Table ---\")\n",
        "print(\"Shape:\", df_features.shape)\n",
        "print(\"Columns:\", df_features.columns)\n",
        "print(\"Unique labels:\", df_features[\"Label\"].unique())\n",
        "print(df_features.head())"
      ]
    },
    {
      "cell_type": "code",
      "execution_count": 13,
      "metadata": {
        "colab": {
          "base_uri": "https://localhost:8080/"
        },
        "execution": {
          "iopub.execute_input": "2025-08-13T16:59:01.03968Z",
          "iopub.status.busy": "2025-08-13T16:59:01.039382Z",
          "iopub.status.idle": "2025-08-13T16:59:01.088138Z",
          "shell.execute_reply": "2025-08-13T16:59:01.087272Z",
          "shell.execute_reply.started": "2025-08-13T16:59:01.039653Z"
        },
        "id": "we-9zfbnTUXp",
        "outputId": "df14ba5c-342d-4e34-fba5-97129b0a0ca1",
        "trusted": true
      },
      "outputs": [
        {
          "name": "stdout",
          "output_type": "stream",
          "text": [
            "Window starting at 4158000: 123 peaks\n"
          ]
        }
      ],
      "source": [
        "print(f\"Window starting at {start}: {len(peaks_in_window)} peaks\")"
      ]
    },
    {
      "cell_type": "code",
      "execution_count": 14,
      "metadata": {
        "colab": {
          "base_uri": "https://localhost:8080/",
          "height": 403
        },
        "execution": {
          "iopub.execute_input": "2025-08-13T16:59:01.089324Z",
          "iopub.status.busy": "2025-08-13T16:59:01.089064Z",
          "iopub.status.idle": "2025-08-13T16:59:01.277292Z",
          "shell.execute_reply": "2025-08-13T16:59:01.276391Z",
          "shell.execute_reply.started": "2025-08-13T16:59:01.089305Z"
        },
        "id": "7bOu2bNtTUXq",
        "outputId": "3f04827b-717e-4dbd-8d58-0286fb432b73",
        "trusted": true
      },
      "outputs": [
        {
          "data": {
            "image/png": "[encoded data removed]",
            "text/plain": [
              "<Figure size 1200x400 with 1 Axes>"
            ]
          },
          "metadata": {},
          "output_type": "display_data"
        }
      ],
      "source": [
        "plt.figure(figsize=(12,4))\n",
        "plt.plot(df_features['Time'], df_features['HRV_SDNN'])\n",
        "plt.title(f'HRV_SDNN over time - Subject {SUBJECT_ID}')\n",
        "plt.xlabel('Time (s)')\n",
        "plt.ylabel('HRV_SDNN')\n",
        "plt.show()"
      ]
    },
    {
      "cell_type": "code",
      "execution_count": 15,
      "metadata": {
        "execution": {
          "iopub.execute_input": "2025-08-13T16:59:01.278526Z",
          "iopub.status.busy": "2025-08-13T16:59:01.278237Z",
          "iopub.status.idle": "2025-08-13T16:59:01.284053Z",
          "shell.execute_reply": "2025-08-13T16:59:01.283108Z",
          "shell.execute_reply.started": "2025-08-13T16:59:01.278501Z"
        },
        "id": "NaVh7jxdTUXq",
        "trusted": true
      },
      "outputs": [],
      "source": [
        "\n",
        "df_features[\"Label\"] = df_features[\"Label\"].map(lambda x: x if x in [0,1,2,3] else 0)"
      ]
    },
    {
      "cell_type": "code",
      "execution_count": 16,
      "metadata": {
        "execution": {
          "iopub.execute_input": "2025-08-13T16:59:01.285383Z",
          "iopub.status.busy": "2025-08-13T16:59:01.285102Z",
          "iopub.status.idle": "2025-08-13T16:59:01.309604Z",
          "shell.execute_reply": "2025-08-13T16:59:01.308738Z",
          "shell.execute_reply.started": "2025-08-13T16:59:01.285362Z"
        },
        "id": "f6gHr0oWTUXq",
        "trusted": true
      },
      "outputs": [],
      "source": [
        "df_features = df_features[df_features[\"Label\"].isin([0,1,2,3])]"
      ]
    },
    {
      "cell_type": "code",
      "execution_count": 17,
      "metadata": {
        "colab": {
          "base_uri": "https://localhost:8080/"
        },
        "execution": {
          "iopub.execute_input": "2025-08-13T16:59:01.310869Z",
          "iopub.status.busy": "2025-08-13T16:59:01.310559Z",
          "iopub.status.idle": "2025-08-13T16:59:01.333456Z",
          "shell.execute_reply": "2025-08-13T16:59:01.332368Z",
          "shell.execute_reply.started": "2025-08-13T16:59:01.310841Z"
        },
        "id": "feF3a57uTUXq",
        "outputId": "45097c1c-17ba-4b00-fab7-2560baa1caac",
        "trusted": true
      },
      "outputs": [
        {
          "name": "stdout",
          "output_type": "stream",
          "text": [
            "Label\n",
            "0    64\n",
            "1    19\n",
            "2    11\n",
            "3     6\n",
            "Name: count, dtype: int64\n"
          ]
        }
      ],
      "source": [
        "print(df_features[\"Label\"].value_counts())"
      ]
    },
    {
      "cell_type": "code",
      "execution_count": 18,
      "metadata": {
        "execution": {
          "iopub.execute_input": "2025-08-13T16:59:01.334658Z",
          "iopub.status.busy": "2025-08-13T16:59:01.334379Z",
          "iopub.status.idle": "2025-08-13T16:59:01.373906Z",
          "shell.execute_reply": "2025-08-13T16:59:01.372943Z",
          "shell.execute_reply.started": "2025-08-13T16:59:01.334637Z"
        },
        "id": "HHEABYemTUXq",
        "trusted": true
      },
      "outputs": [],
      "source": [
        "df_features = df_features.fillna(df_features.median())"
      ]
    },
    {
      "cell_type": "code",
      "execution_count": 19,
      "metadata": {
        "execution": {
          "iopub.execute_input": "2025-08-13T17:13:24.228219Z",
          "iopub.status.busy": "2025-08-13T17:13:24.227943Z",
          "iopub.status.idle": "2025-08-13T17:13:24.239467Z",
          "shell.execute_reply": "2025-08-13T17:13:24.238738Z",
          "shell.execute_reply.started": "2025-08-13T17:13:24.228199Z"
        },
        "id": "XAx-gzD8TUXq",
        "trusted": true
      },
      "outputs": [],
      "source": [
        "nan_counts = df_features.isna().sum()\n",
        "df_features = df_features.drop(columns=nan_counts[nan_counts > (0.2*len(df_features))].index)"
      ]
    },
    {
      "cell_type": "code",
      "execution_count": 20,
      "metadata": {
        "execution": {
          "iopub.execute_input": "2025-08-13T17:13:38.419872Z",
          "iopub.status.busy": "2025-08-13T17:13:38.419208Z",
          "iopub.status.idle": "2025-08-13T17:13:38.427972Z",
          "shell.execute_reply": "2025-08-13T17:13:38.427078Z",
          "shell.execute_reply.started": "2025-08-13T17:13:38.419845Z"
        },
        "id": "88kPdkL7TUXq",
        "trusted": true
      },
      "outputs": [],
      "source": [
        "X = df_features.drop(columns=[\"Time\", \"Label\"])\n",
        "y = df_features[\"Label\"]"
      ]
    },
    {
      "cell_type": "code",
      "execution_count": 21,
      "metadata": {
        "colab": {
          "base_uri": "https://localhost:8080/"
        },
        "execution": {
          "iopub.execute_input": "2025-08-13T17:13:39.507169Z",
          "iopub.status.busy": "2025-08-13T17:13:39.50637Z",
          "iopub.status.idle": "2025-08-13T17:13:39.512626Z",
          "shell.execute_reply": "2025-08-13T17:13:39.511756Z",
          "shell.execute_reply.started": "2025-08-13T17:13:39.50714Z"
        },
        "id": "s8er7ne9TUXq",
        "outputId": "331faf67-f5f2-4326-d668-137e60211ad3",
        "trusted": true
      },
      "outputs": [
        {
          "name": "stdout",
          "output_type": "stream",
          "text": [
            "Final X shape: (100, 83)\n",
            "Final y distribution:\n",
            " Label\n",
            "0    64\n",
            "1    19\n",
            "2    11\n",
            "3     6\n",
            "Name: count, dtype: int64\n"
          ]
        }
      ],
      "source": [
        "print(\"Final X shape:\", X.shape)\n",
        "print(\"Final y distribution:\\n\", y.value_counts())"
      ]
    },
    {
      "cell_type": "code",
      "execution_count": 22,
      "metadata": {
        "colab": {
          "base_uri": "https://localhost:8080/"
        },
        "execution": {
          "iopub.execute_input": "2025-08-13T17:13:40.482397Z",
          "iopub.status.busy": "2025-08-13T17:13:40.482096Z",
          "iopub.status.idle": "2025-08-13T17:13:40.48834Z",
          "shell.execute_reply": "2025-08-13T17:13:40.487245Z",
          "shell.execute_reply.started": "2025-08-13T17:13:40.482374Z"
        },
        "id": "SusOh_dITUXq",
        "outputId": "0fc7c08e-5f04-46f2-8afa-84ad0a1d93b7",
        "trusted": true
      },
      "outputs": [
        {
          "name": "stdout",
          "output_type": "stream",
          "text": [
            "Number of columns dropped due to >20% NaN: 8\n",
            "Remaining feature columns: 83\n"
          ]
        }
      ],
      "source": [
        "print(\"Number of columns dropped due to >20% NaN:\", len(nan_counts[nan_counts > (0.2*len(df_features))]))\n",
        "print(\"Remaining feature columns:\", X.shape[1])"
      ]
    },
    {
      "cell_type": "code",
      "execution_count": 23,
      "metadata": {
        "execution": {
          "iopub.execute_input": "2025-08-13T17:13:44.666638Z",
          "iopub.status.busy": "2025-08-13T17:13:44.666338Z",
          "iopub.status.idle": "2025-08-13T17:13:44.710992Z",
          "shell.execute_reply": "2025-08-13T17:13:44.710032Z",
          "shell.execute_reply.started": "2025-08-13T17:13:44.666614Z"
        },
        "id": "b8TxXKHCTUXr",
        "trusted": true
      },
      "outputs": [],
      "source": [
        "from sklearn.preprocessing import StandardScaler\n",
        "scaler = StandardScaler()\n",
        "X_scaled = scaler.fit_transform(X)"
      ]
    },
    {
      "cell_type": "code",
      "execution_count": 24,
      "metadata": {
        "execution": {
          "iopub.execute_input": "2025-08-13T17:13:52.131189Z",
          "iopub.status.busy": "2025-08-13T17:13:52.130861Z",
          "iopub.status.idle": "2025-08-13T17:13:52.138638Z",
          "shell.execute_reply": "2025-08-13T17:13:52.137485Z",
          "shell.execute_reply.started": "2025-08-13T17:13:52.131167Z"
        },
        "id": "p4KsU8yWTUXr",
        "trusted": true
      },
      "outputs": [],
      "source": [
        "from sklearn.model_selection import train_test_split\n",
        "X_train, X_test, y_train, y_test = train_test_split(\n",
        "    X_scaled, y, test_size=0.2, random_state=42, stratify=y)"
      ]
    },
    {
      "cell_type": "code",
      "execution_count": 25,
      "metadata": {
        "colab": {
          "base_uri": "https://localhost:8080/"
        },
        "execution": {
          "iopub.execute_input": "2025-08-13T17:13:54.945038Z",
          "iopub.status.busy": "2025-08-13T17:13:54.944268Z",
          "iopub.status.idle": "2025-08-13T17:13:55.277999Z",
          "shell.execute_reply": "2025-08-13T17:13:55.277101Z",
          "shell.execute_reply.started": "2025-08-13T17:13:54.945011Z"
        },
        "id": "ZXYdmAAPTUXr",
        "outputId": "42084292-c297-4886-d4a8-091691abb83f",
        "trusted": true
      },
      "outputs": [
        {
          "name": "stdout",
          "output_type": "stream",
          "text": [
            "              precision    recall  f1-score   support\n",
            "\n",
            "           0       0.80      0.92      0.86        13\n",
            "           1       0.67      0.50      0.57         4\n",
            "           2       1.00      1.00      1.00         2\n",
            "           3       0.00      0.00      0.00         1\n",
            "\n",
            "    accuracy                           0.80        20\n",
            "   macro avg       0.62      0.61      0.61        20\n",
            "weighted avg       0.75      0.80      0.77        20\n",
            "\n",
            "[[12  1  0  0]\n",
            " [ 2  2  0  0]\n",
            " [ 0  0  2  0]\n",
            " [ 1  0  0  0]]\n"
          ]
        },
        {
          "name": "stderr",
          "output_type": "stream",
          "text": [
            "/usr/local/lib/python3.11/dist-packages/sklearn/metrics/_classification.py:1565: UndefinedMetricWarning: Precision is ill-defined and being set to 0.0 in labels with no predicted samples. Use `zero_division` parameter to control this behavior.\n",
            "  _warn_prf(average, modifier, f\"{metric.capitalize()} is\", len(result))\n",
            "/usr/local/lib/python3.11/dist-packages/sklearn/metrics/_classification.py:1565: UndefinedMetricWarning: Precision is ill-defined and being set to 0.0 in labels with no predicted samples. Use `zero_division` parameter to control this behavior.\n",
            "  _warn_prf(average, modifier, f\"{metric.capitalize()} is\", len(result))\n",
            "/usr/local/lib/python3.11/dist-packages/sklearn/metrics/_classification.py:1565: UndefinedMetricWarning: Precision is ill-defined and being set to 0.0 in labels with no predicted samples. Use `zero_division` parameter to control this behavior.\n",
            "  _warn_prf(average, modifier, f\"{metric.capitalize()} is\", len(result))\n"
          ]
        }
      ],
      "source": [
        "from sklearn.ensemble import RandomForestClassifier\n",
        "from sklearn.metrics import classification_report, confusion_matrix\n",
        "\n",
        "clf = RandomForestClassifier(n_estimators=100, random_state=42)\n",
        "clf.fit(X_train, y_train)\n",
        "y_pred = clf.predict(X_test)\n",
        "\n",
        "print(classification_report(y_test, y_pred))\n",
        "print(confusion_matrix(y_test, y_pred))"
      ]
    },
    {
      "cell_type": "code",
      "execution_count": 26,
      "metadata": {
        "colab": {
          "base_uri": "https://localhost:8080/",
          "height": 403
        },
        "execution": {
          "iopub.execute_input": "2025-08-13T17:14:02.83418Z",
          "iopub.status.busy": "2025-08-13T17:14:02.833392Z",
          "iopub.status.idle": "2025-08-13T17:14:03.047936Z",
          "shell.execute_reply": "2025-08-13T17:14:03.047067Z",
          "shell.execute_reply.started": "2025-08-13T17:14:02.834147Z"
        },
        "id": "XoBp3WP0TUXr",
        "outputId": "95f2ba33-b5f2-4aec-c6f9-af731c17f4eb",
        "trusted": true
      },
      "outputs": [
        {
          "data": {
            "image/png": "[encoded data removed]",
            "text/plain": [
              "<Figure size 600x400 with 2 Axes>"
            ]
          },
          "metadata": {},
          "output_type": "display_data"
        }
      ],
      "source": [
        "import seaborn as sns\n",
        "import matplotlib.pyplot as plt\n",
        "\n",
        "cm = confusion_matrix(y_test, y_pred)\n",
        "plt.figure(figsize=(6,4))\n",
        "sns.heatmap(cm, annot=True, fmt='d', cmap='Blues', xticklabels=[0,1,2,3], yticklabels=[0,1,2,3])\n",
        "plt.xlabel('Predicted')\n",
        "plt.ylabel('True')\n",
        "plt.title('Confusion Matrix')\n",
        "plt.show()"
      ]
    },
    {
      "cell_type": "code",
      "execution_count": 27,
      "metadata": {
        "colab": {
          "base_uri": "https://localhost:8080/"
        },
        "execution": {
          "iopub.execute_input": "2025-08-13T17:14:07.396941Z",
          "iopub.status.busy": "2025-08-13T17:14:07.396589Z",
          "iopub.status.idle": "2025-08-13T17:14:07.414161Z",
          "shell.execute_reply": "2025-08-13T17:14:07.413103Z",
          "shell.execute_reply.started": "2025-08-13T17:14:07.396918Z"
        },
        "id": "L0J7hOVfTUXr",
        "outputId": "bc12f6ff-623b-4731-e2ca-0fa88668a045",
        "trusted": true
      },
      "outputs": [
        {
          "name": "stdout",
          "output_type": "stream",
          "text": [
            "Test accuracy: 0.8\n"
          ]
        }
      ],
      "source": [
        "print(\"Test accuracy:\", clf.score(X_test, y_test))"
      ]
    },
    {
      "cell_type": "code",
      "execution_count": 28,
      "metadata": {
        "colab": {
          "base_uri": "https://localhost:8080/"
        },
        "execution": {
          "iopub.execute_input": "2025-08-13T17:14:10.154603Z",
          "iopub.status.busy": "2025-08-13T17:14:10.154327Z",
          "iopub.status.idle": "2025-08-13T17:14:10.915994Z",
          "shell.execute_reply": "2025-08-13T17:14:10.915072Z",
          "shell.execute_reply.started": "2025-08-13T17:14:10.154584Z"
        },
        "id": "KVUlvLYbTUXr",
        "outputId": "2bd4972c-a3ab-4db7-8910-e7369ce7c68e",
        "trusted": true
      },
      "outputs": [
        {
          "name": "stdout",
          "output_type": "stream",
          "text": [
            "Cross-validation accuracy: 0.73 ± 0.07\n"
          ]
        }
      ],
      "source": [
        "from sklearn.model_selection import cross_val_score\n",
        "scores = cross_val_score(clf, X_scaled, y, cv=5)\n",
        "print(\"Cross-validation accuracy: %.2f ± %.2f\" % (scores.mean(), scores.std()))"
      ]
    },
    {
      "cell_type": "code",
      "execution_count": 29,
      "metadata": {
        "colab": {
          "base_uri": "https://localhost:8080/",
          "height": 607
        },
        "execution": {
          "iopub.execute_input": "2025-08-13T17:14:26.666566Z",
          "iopub.status.busy": "2025-08-13T17:14:26.666272Z",
          "iopub.status.idle": "2025-08-13T17:14:26.902047Z",
          "shell.execute_reply": "2025-08-13T17:14:26.901113Z",
          "shell.execute_reply.started": "2025-08-13T17:14:26.666545Z"
        },
        "id": "5ZBHFv3HTUXr",
        "outputId": "a38d21c0-69af-4deb-af3b-e2f9d134c20b",
        "trusted": true
      },
      "outputs": [
        {
          "data": {
            "image/png": "[encoded data removed]",
            "text/plain": [
              "<Figure size 1000x600 with 1 Axes>"
            ]
          },
          "metadata": {},
          "output_type": "display_data"
        }
      ],
      "source": [
        "import matplotlib.pyplot as plt\n",
        "import numpy as np\n",
        "\n",
        "importances = clf.feature_importances_\n",
        "indices = np.argsort(importances)[::-1]\n",
        "top_n = 10\n",
        "\n",
        "plt.figure(figsize=(10,6))\n",
        "plt.title(\"Top Feature Importances\")\n",
        "plt.bar(range(top_n), importances[indices[:top_n]], align='center')\n",
        "plt.xticks(range(top_n), np.array(X.columns)[indices[:top_n]], rotation=45)\n",
        "plt.tight_layout()\n",
        "plt.show()"
      ]
    },
    {
      "cell_type": "code",
      "execution_count": 30,
      "metadata": {
        "colab": {
          "base_uri": "https://localhost:8080/",
          "height": 1000
        },
        "execution": {
          "iopub.execute_input": "2025-08-13T17:14:30.972093Z",
          "iopub.status.busy": "2025-08-13T17:14:30.971792Z",
          "iopub.status.idle": "2025-08-13T17:20:46.26729Z",
          "shell.execute_reply": "2025-08-13T17:20:46.266385Z",
          "shell.execute_reply.started": "2025-08-13T17:14:30.972074Z"
        },
        "id": "LGyEuwWWTUXr",
        "outputId": "addb5683-287e-40d9-e5f1-a4e0d87dd069",
        "trusted": true
      },
      "outputs": [
        {
          "name": "stdout",
          "output_type": "stream",
          "text": [
            "\n",
            "=== Processing S2 ===\n",
            "Could not load data for S2: [Errno 2] No such file or directory: '/kaggle/input/wesad-wearable-stress-affect-detection-dataset/WESAD/S2/S2.pkl'\n",
            "\n",
            "=== Processing S3 ===\n",
            "Could not load data for S3: [Errno 2] No such file or directory: '/kaggle/input/wesad-wearable-stress-affect-detection-dataset/WESAD/S3/S3.pkl'\n",
            "\n",
            "=== Processing S4 ===\n",
            "Could not load data for S4: [Errno 2] No such file or directory: '/kaggle/input/wesad-wearable-stress-affect-detection-dataset/WESAD/S4/S4.pkl'\n",
            "\n",
            "=== Processing S5 ===\n",
            "Could not load data for S5: [Errno 2] No such file or directory: '/kaggle/input/wesad-wearable-stress-affect-detection-dataset/WESAD/S5/S5.pkl'\n",
            "\n",
            "=== Processing S6 ===\n",
            "Could not load data for S6: [Errno 2] No such file or directory: '/kaggle/input/wesad-wearable-stress-affect-detection-dataset/WESAD/S6/S6.pkl'\n",
            "\n",
            "=== Processing S7 ===\n",
            "Could not load data for S7: [Errno 2] No such file or directory: '/kaggle/input/wesad-wearable-stress-affect-detection-dataset/WESAD/S7/S7.pkl'\n",
            "\n",
            "=== Processing S8 ===\n",
            "Could not load data for S8: [Errno 2] No such file or directory: '/kaggle/input/wesad-wearable-stress-affect-detection-dataset/WESAD/S8/S8.pkl'\n",
            "\n",
            "=== Processing S9 ===\n",
            "Could not load data for S9: [Errno 2] No such file or directory: '/kaggle/input/wesad-wearable-stress-affect-detection-dataset/WESAD/S9/S9.pkl'\n",
            "\n",
            "=== Processing S10 ===\n",
            "Could not load data for S10: [Errno 2] No such file or directory: '/kaggle/input/wesad-wearable-stress-affect-detection-dataset/WESAD/S10/S10.pkl'\n",
            "\n",
            "=== Processing S11 ===\n",
            "Could not load data for S11: [Errno 2] No such file or directory: '/kaggle/input/wesad-wearable-stress-affect-detection-dataset/WESAD/S11/S11.pkl'\n",
            "\n",
            "=== Processing S13 ===\n",
            "Could not load data for S13: [Errno 2] No such file or directory: '/kaggle/input/wesad-wearable-stress-affect-detection-dataset/WESAD/S13/S13.pkl'\n",
            "\n",
            "=== Processing S14 ===\n",
            "Could not load data for S14: [Errno 2] No such file or directory: '/kaggle/input/wesad-wearable-stress-affect-detection-dataset/WESAD/S14/S14.pkl'\n",
            "\n",
            "=== Processing S15 ===\n",
            "Could not load data for S15: [Errno 2] No such file or directory: '/kaggle/input/wesad-wearable-stress-affect-detection-dataset/WESAD/S15/S15.pkl'\n",
            "\n",
            "=== Processing S16 ===\n",
            "Could not load data for S16: [Errno 2] No such file or directory: '/kaggle/input/wesad-wearable-stress-affect-detection-dataset/WESAD/S16/S16.pkl'\n",
            "\n",
            "=== Processing S17 ===\n",
            "Could not load data for S17: [Errno 2] No such file or directory: '/kaggle/input/wesad-wearable-stress-affect-detection-dataset/WESAD/S17/S17.pkl'\n"
          ]
        },
        {
          "ename": "KeyError",
          "evalue": "'accuracy'",
          "output_type": "error",
          "traceback": [
            "\u001b[0;31m---------------------------------------------------------------------------\u001b[0m",
            "\u001b[0;31mKeyError\u001b[0m                                  Traceback (most recent call last)",
            "\u001b[0;32m/tmp/ipython-input-3798482933.py\u001b[0m in \u001b[0;36m<cell line: 0>\u001b[0;34m()\u001b[0m\n\u001b[1;32m    112\u001b[0m     \u001b[0;34m'macro_f1'\u001b[0m\u001b[0;34m:\u001b[0m \u001b[0mr\u001b[0m\u001b[0;34m[\u001b[0m\u001b[0;34m'macro_f1'\u001b[0m\u001b[0;34m]\u001b[0m\u001b[0;34m,\u001b[0m\u001b[0;34m\u001b[0m\u001b[0;34m\u001b[0m\u001b[0m\n\u001b[1;32m    113\u001b[0m     \u001b[0;34m'n_samples'\u001b[0m\u001b[0;34m:\u001b[0m \u001b[0mr\u001b[0m\u001b[0;34m[\u001b[0m\u001b[0;34m'n_samples'\u001b[0m\u001b[0;34m]\u001b[0m\u001b[0;34m\u001b[0m\u001b[0;34m\u001b[0m\u001b[0m\n\u001b[0;32m--> 114\u001b[0;31m } for r in all_results]).sort_values(by='accuracy', ascending=False)\n\u001b[0m\u001b[1;32m    115\u001b[0m \u001b[0;34m\u001b[0m\u001b[0m\n\u001b[1;32m    116\u001b[0m \u001b[0mprint\u001b[0m\u001b[0;34m(\u001b[0m\u001b[0;34m\"\\n=== Summary Table (sorted by accuracy) ===\"\u001b[0m\u001b[0;34m)\u001b[0m\u001b[0;34m\u001b[0m\u001b[0;34m\u001b[0m\u001b[0m\n",
            "\u001b[0;32m/usr/local/lib/python3.11/dist-packages/pandas/core/frame.py\u001b[0m in \u001b[0;36msort_values\u001b[0;34m(self, by, axis, ascending, inplace, kind, na_position, ignore_index, key)\u001b[0m\n\u001b[1;32m   7187\u001b[0m             \u001b[0;31m# len(by) == 1\u001b[0m\u001b[0;34m\u001b[0m\u001b[0;34m\u001b[0m\u001b[0m\n\u001b[1;32m   7188\u001b[0m \u001b[0;34m\u001b[0m\u001b[0m\n\u001b[0;32m-> 7189\u001b[0;31m             \u001b[0mk\u001b[0m \u001b[0;34m=\u001b[0m \u001b[0mself\u001b[0m\u001b[0;34m.\u001b[0m\u001b[0m_get_label_or_level_values\u001b[0m\u001b[0;34m(\u001b[0m\u001b[0mby\u001b[0m\u001b[0;34m[\u001b[0m\u001b[0;36m0\u001b[0m\u001b[0;34m]\u001b[0m\u001b[0;34m,\u001b[0m \u001b[0maxis\u001b[0m\u001b[0;34m=\u001b[0m\u001b[0maxis\u001b[0m\u001b[0;34m)\u001b[0m\u001b[0;34m\u001b[0m\u001b[0;34m\u001b[0m\u001b[0m\n\u001b[0m\u001b[1;32m   7190\u001b[0m \u001b[0;34m\u001b[0m\u001b[0m\n\u001b[1;32m   7191\u001b[0m             \u001b[0;31m# need to rewrap column in Series to apply key function\u001b[0m\u001b[0;34m\u001b[0m\u001b[0;34m\u001b[0m\u001b[0m\n",
            "\u001b[0;32m/usr/local/lib/python3.11/dist-packages/pandas/core/generic.py\u001b[0m in \u001b[0;36m_get_label_or_level_values\u001b[0;34m(self, key, axis)\u001b[0m\n\u001b[1;32m   1909\u001b[0m             \u001b[0mvalues\u001b[0m \u001b[0;34m=\u001b[0m \u001b[0mself\u001b[0m\u001b[0;34m.\u001b[0m\u001b[0maxes\u001b[0m\u001b[0;34m[\u001b[0m\u001b[0maxis\u001b[0m\u001b[0;34m]\u001b[0m\u001b[0;34m.\u001b[0m\u001b[0mget_level_values\u001b[0m\u001b[0;34m(\u001b[0m\u001b[0mkey\u001b[0m\u001b[0;34m)\u001b[0m\u001b[0;34m.\u001b[0m\u001b[0m_values\u001b[0m\u001b[0;34m\u001b[0m\u001b[0;34m\u001b[0m\u001b[0m\n\u001b[1;32m   1910\u001b[0m         \u001b[0;32melse\u001b[0m\u001b[0;34m:\u001b[0m\u001b[0;34m\u001b[0m\u001b[0;34m\u001b[0m\u001b[0m\n\u001b[0;32m-> 1911\u001b[0;31m             \u001b[0;32mraise\u001b[0m \u001b[0mKeyError\u001b[0m\u001b[0;34m(\u001b[0m\u001b[0mkey\u001b[0m\u001b[0;34m)\u001b[0m\u001b[0;34m\u001b[0m\u001b[0;34m\u001b[0m\u001b[0m\n\u001b[0m\u001b[1;32m   1912\u001b[0m \u001b[0;34m\u001b[0m\u001b[0m\n\u001b[1;32m   1913\u001b[0m         \u001b[0;31m# Check for duplicates\u001b[0m\u001b[0;34m\u001b[0m\u001b[0;34m\u001b[0m\u001b[0m\n",
            "\u001b[0;31mKeyError\u001b[0m: 'accuracy'"
          ]
        }
      ],
      "source": [
        "import pickle\n",
        "import numpy as np\n",
        "import pandas as pd\n",
        "from sklearn.preprocessing import StandardScaler\n",
        "from sklearn.ensemble import RandomForestClassifier\n",
        "from sklearn.metrics import classification_report, confusion_matrix, accuracy_score, f1_score\n",
        "from sklearn.model_selection import train_test_split\n",
        "import matplotlib.pyplot as plt\n",
        "import seaborn as sns\n",
        "import neurokit2 as nk\n",
        "\n",
        "# Config\n",
        "DATA_PATH = '/kaggle/input/wesad-wearable-stress-affect-detection-dataset/WESAD/'\n",
        "subject_ids = ['S2','S3','S4','S5','S6','S7','S8','S9','S10','S11','S13','S14','S15','S16','S17']\n",
        "ECG_SAMPLING_RATE_RESP = 700\n",
        "WINDOW_SIZE_SEC = 120\n",
        "WINDOW_STEP_SEC = 60\n",
        "window_size_samples = WINDOW_SIZE_SEC * ECG_SAMPLING_RATE_RESP\n",
        "step_size_samples = WINDOW_STEP_SEC * ECG_SAMPLING_RATE_RESP\n",
        "\n",
        "# Store all detailed results\n",
        "all_results = []\n",
        "\n",
        "def process_subject(subject_id):\n",
        "    print(f\"\\n=== Processing {subject_id} ===\")\n",
        "    try:\n",
        "        with open(f\"{DATA_PATH}{subject_id}/{subject_id}.pkl\", 'rb') as f:\n",
        "            data = pickle.load(f, encoding='latin1')\n",
        "    except Exception as e:\n",
        "        print(f\"Could not load data for {subject_id}: {e}\")\n",
        "        return None\n",
        "\n",
        "    # Extract ECG and labels\n",
        "    ecg_signal = data['signal']['chest']['ECG']\n",
        "    labels = data['label']\n",
        "\n",
        "    # Clean ECG & find R-peaks\n",
        "    cleaned_ecg = nk.ecg_clean(ecg_signal, sampling_rate=ECG_SAMPLING_RATE_RESP)\n",
        "    _, rpeaks = nk.ecg_peaks(cleaned_ecg, sampling_rate=ECG_SAMPLING_RATE_RESP)\n",
        "    rpeaks_indices = rpeaks['ECG_R_Peaks']\n",
        "\n",
        "    # Sliding window HRV features\n",
        "    hrv_features_list = []\n",
        "    for start in range(0, len(ecg_signal) - window_size_samples, step_size_samples):\n",
        "        end = start + window_size_samples\n",
        "        window_center_sec = (start + end) / 2 / ECG_SAMPLING_RATE_RESP\n",
        "\n",
        "        peaks_in_window = rpeaks_indices[(rpeaks_indices >= start) & (rpeaks_indices < end)] - start\n",
        "\n",
        "        if len(peaks_in_window) > 2:\n",
        "            peaks_df = pd.DataFrame({\"ECG_R_Peaks\": np.zeros(window_size_samples, dtype=bool)})\n",
        "            peaks_df.loc[peaks_in_window, \"ECG_R_Peaks\"] = True\n",
        "            try:\n",
        "                hrv = nk.hrv(peaks_df, sampling_rate=ECG_SAMPLING_RATE_RESP, show=False)\n",
        "                hrv_row = hrv.iloc[0].to_dict()\n",
        "                window_labels = labels[start:end]\n",
        "                most_common_label = np.bincount(window_labels).argmax()\n",
        "                hrv_row[\"Time\"] = window_center_sec\n",
        "                hrv_row[\"Label\"] = most_common_label\n",
        "                hrv_features_list.append(hrv_row)\n",
        "            except Exception as e:\n",
        "                continue\n",
        "\n",
        "    if not hrv_features_list:\n",
        "        print(f\"No HRV features extracted for {subject_id}\")\n",
        "        return None\n",
        "\n",
        "    df_features = pd.DataFrame(hrv_features_list)\n",
        "    df_features[\"Label\"] = df_features[\"Label\"].map(lambda x: x if x in [0,1,2,3] else 0)\n",
        "    df_features = df_features[df_features[\"Label\"].isin([0,1,2,3])]\n",
        "    df_features = df_features.fillna(df_features.median())\n",
        "    nan_counts = df_features.isna().sum()\n",
        "    df_features = df_features.drop(columns=nan_counts[nan_counts > (0.2*len(df_features))].index)\n",
        "\n",
        "    X = df_features.drop(columns=[\"Time\", \"Label\"])\n",
        "    y = df_features[\"Label\"]\n",
        "\n",
        "    if len(y.unique()) < 2 or len(y) < 10:\n",
        "        print(f\"Not enough data to train for {subject_id}\")\n",
        "        return None\n",
        "\n",
        "    X_scaled = StandardScaler().fit_transform(X)\n",
        "    X_train, X_test, y_train, y_test = train_test_split(\n",
        "        X_scaled, y, test_size=0.2, random_state=42, stratify=y)\n",
        "\n",
        "    clf = RandomForestClassifier(n_estimators=100, random_state=42)\n",
        "    clf.fit(X_train, y_train)\n",
        "    y_pred = clf.predict(X_test)\n",
        "\n",
        "    acc = accuracy_score(y_test, y_pred)\n",
        "    macro_f1 = f1_score(y_test, y_pred, average='macro')\n",
        "    cm = confusion_matrix(y_test, y_pred, labels=[0,1,2,3])\n",
        "\n",
        "    return {\n",
        "        'subject': subject_id,\n",
        "        'accuracy': acc,\n",
        "        'macro_f1': macro_f1,\n",
        "        'n_samples': len(y),\n",
        "        'confusion_matrix': cm\n",
        "    }\n",
        "\n",
        "# Process all subjects\n",
        "for subject_id in subject_ids:\n",
        "    res = process_subject(subject_id)\n",
        "    if res:\n",
        "        all_results.append(res)\n",
        "\n",
        "# Build summary DataFrame\n",
        "df_results = pd.DataFrame([{\n",
        "    'subject': r['subject'],\n",
        "    'accuracy': r['accuracy'],\n",
        "    'macro_f1': r['macro_f1'],\n",
        "    'n_samples': r['n_samples']\n",
        "} for r in all_results]).sort_values(by='accuracy', ascending=False)\n",
        "\n",
        "print(\"\\n=== Summary Table (sorted by accuracy) ===\")\n",
        "print(df_results)\n",
        "\n",
        "# Plot: per-subject confusion matrices\n",
        "for r in all_results:\n",
        "    plt.figure(figsize=(4,4))\n",
        "    sns.heatmap(r['confusion_matrix'], annot=True, fmt='d', cmap='Blues',\n",
        "                xticklabels=[0,1,2,3], yticklabels=[0,1,2,3])\n",
        "    plt.title(f\"Confusion matrix: {r['subject']}\")\n",
        "    plt.xlabel('Predicted')\n",
        "    plt.ylabel('True')\n",
        "    plt.show()\n",
        "\n",
        "# Plot: average normalized confusion matrix\n",
        "cms = [r['confusion_matrix'] for r in all_results]\n",
        "sum_cm = np.sum(cms, axis=0)\n",
        "norm_cm = sum_cm / sum_cm.sum(axis=1, keepdims=True)\n",
        "\n",
        "plt.figure(figsize=(6,5))\n",
        "sns.heatmap(norm_cm, annot=True, fmt='.2f', cmap='Blues',\n",
        "            xticklabels=[0,1,2,3], yticklabels=[0,1,2,3])\n",
        "plt.title('Average normalized confusion matrix')\n",
        "plt.xlabel('Predicted')\n",
        "plt.ylabel('True')\n",
        "plt.show()\n",
        "\n",
        "# Plot: barplots of accuracy and macro F1\n",
        "plt.figure(figsize=(10,5))\n",
        "sns.barplot(x='subject', y='accuracy', data=df_results, order=df_results['subject'])\n",
        "plt.ylim(0,1)\n",
        "plt.title('Accuracy per subject')\n",
        "plt.ylabel('Accuracy')\n",
        "plt.show()\n",
        "\n",
        "plt.figure(figsize=(10,5))\n",
        "sns.barplot(x='subject', y='macro_f1', data=df_results, order=df_results['subject'])\n",
        "plt.ylim(0,1)\n",
        "plt.title('Macro F1 per subject')\n",
        "plt.ylabel('Macro F1')\n",
        "plt.show()\n",
        "\n",
        "# Print mean ± std\n",
        "mean_acc = df_results['accuracy'].mean()\n",
        "std_acc = df_results['accuracy'].std()\n",
        "mean_f1 = df_results['macro_f1'].mean()\n",
        "std_f1 = df_results['macro_f1'].std()\n",
        "\n",
        "print(f\"\\nMean accuracy: {mean_acc:.2f} ± {std_acc:.2f}\")\n",
        "print(f\"Mean macro F1: {mean_f1:.2f} ± {std_f1:.2f}\")\n"
      ]
    },
    {
      "cell_type": "code",
      "execution_count": 32,
      "metadata": {
        "colab": {
          "base_uri": "https://localhost:8080/",
          "height": 484
        },
        "id": "xNQ5Qt-vTUXr",
        "outputId": "e085dce2-d77a-4cb2-ce66-243214d0971b",
        "trusted": true
      },
      "outputs": [
        {
          "name": "stdout",
          "output_type": "stream",
          "text": [
            "Found 15 subjects: ['S10', 'S11', 'S13', 'S14', 'S15', 'S16', 'S17', 'S2', 'S3', 'S4'] ...\n",
            "=== Processing S2 ===\n",
            "=== Processing S3 ===\n",
            "=== Processing S4 ===\n",
            "=== Processing S5 ===\n",
            "=== Processing S6 ===\n",
            "=== Processing S7 ===\n",
            "=== Processing S8 ===\n",
            "=== Processing S9 ===\n",
            "=== Processing S10 ===\n",
            "=== Processing S11 ===\n",
            "=== Processing S13 ===\n",
            "=== Processing S14 ===\n",
            "=== Processing S15 ===\n",
            "=== Processing S16 ===\n",
            "=== Processing S17 ===\n"
          ]
        },
        {
          "data": {
            "application/vnd.google.colaboratory.intrinsic+json": {
              "summary": "{\n  \"name\": \"display(df\",\n  \"rows\": 5,\n  \"fields\": [\n    {\n      \"column\": \"subject\",\n      \"properties\": {\n        \"dtype\": \"string\",\n        \"num_unique_values\": 5,\n        \"samples\": [\n          \"S8\",\n          \"S17\",\n          \"S6\"\n        ],\n        \"semantic_type\": \"\",\n        \"description\": \"\"\n      }\n    },\n    {\n      \"column\": \"accuracy\",\n      \"properties\": {\n        \"dtype\": \"number\",\n        \"std\": 0.0207187580120131,\n        \"min\": 0.96,\n        \"max\": 1.0,\n        \"num_unique_values\": 4,\n        \"samples\": [\n          0.9655172413793104,\n          0.96,\n          1.0\n        ],\n        \"semantic_type\": \"\",\n        \"description\": \"\"\n      }\n    },\n    {\n      \"column\": \"macro_f1\",\n      \"properties\": {\n        \"dtype\": \"number\",\n        \"std\": 0.04506944318493637,\n        \"min\": 0.9169435215946844,\n        \"max\": 1.0,\n        \"num_unique_values\": 4,\n        \"samples\": [\n          0.9187675070028011,\n          0.9169435215946844,\n          1.0\n        ],\n        \"semantic_type\": \"\",\n        \"description\": \"\"\n      }\n    },\n    {\n      \"column\": \"n_samples\",\n      \"properties\": {\n        \"dtype\": \"number\",\n        \"std\": 9,\n        \"min\": 90,\n        \"max\": 116,\n        \"num_unique_values\": 5,\n        \"samples\": [\n          90,\n          97,\n          116\n        ],\n        \"semantic_type\": \"\",\n        \"description\": \"\"\n      }\n    }\n  ]\n}",
              "type": "dataframe"
            },
            "text/html": [
              "\n",
              "  <div id=\"df-92ef5b1c-2d6f-4b1e-ad11-398893839bde\" class=\"colab-df-container\">\n",
              "    <div>\n",
              "<style scoped>\n",
              "    .dataframe tbody tr th:only-of-type {\n",
              "        vertical-align: middle;\n",
              "    }\n",
              "\n",
              "    .dataframe tbody tr th {\n",
              "        vertical-align: top;\n",
              "    }\n",
              "\n",
              "    .dataframe thead th {\n",
              "        text-align: right;\n",
              "    }\n",
              "</style>\n",
              "<table border=\"1\" class=\"dataframe\">\n",
              "  <thead>\n",
              "    <tr style=\"text-align: right;\">\n",
              "      <th></th>\n",
              "      <th>subject</th>\n",
              "      <th>accuracy</th>\n",
              "      <th>macro_f1</th>\n",
              "      <th>n_samples</th>\n",
              "    </tr>\n",
              "  </thead>\n",
              "  <tbody>\n",
              "    <tr>\n",
              "      <th>0</th>\n",
              "      <td>S3</td>\n",
              "      <td>1.000000</td>\n",
              "      <td>1.000000</td>\n",
              "      <td>107</td>\n",
              "    </tr>\n",
              "    <tr>\n",
              "      <th>1</th>\n",
              "      <td>S8</td>\n",
              "      <td>1.000000</td>\n",
              "      <td>1.000000</td>\n",
              "      <td>90</td>\n",
              "    </tr>\n",
              "    <tr>\n",
              "      <th>2</th>\n",
              "      <td>S6</td>\n",
              "      <td>0.965517</td>\n",
              "      <td>0.918768</td>\n",
              "      <td>116</td>\n",
              "    </tr>\n",
              "    <tr>\n",
              "      <th>3</th>\n",
              "      <td>S5</td>\n",
              "      <td>0.961538</td>\n",
              "      <td>0.917460</td>\n",
              "      <td>103</td>\n",
              "    </tr>\n",
              "    <tr>\n",
              "      <th>4</th>\n",
              "      <td>S17</td>\n",
              "      <td>0.960000</td>\n",
              "      <td>0.916944</td>\n",
              "      <td>97</td>\n",
              "    </tr>\n",
              "  </tbody>\n",
              "</table>\n",
              "</div>\n",
              "    <div class=\"colab-df-buttons\">\n",
              "\n",
              "  <div class=\"colab-df-container\">\n",
              "    <button class=\"colab-df-convert\" onclick=\"convertToInteractive('df-92ef5b1c-2d6f-4b1e-ad11-398893839bde')\"\n",
              "            title=\"Convert this dataframe to an interactive table.\"\n",
              "            style=\"display:none;\">\n",
              "\n",
              "  <svg xmlns=\"http://www.w3.org/2000/svg\" height=\"24px\" viewBox=\"0 -960 960 960\">\n",
              "    <path d=\"M120-120v-720h720v720H120Zm60-500h600v-160H180v160Zm220 220h160v-160H400v160Zm0 220h160v-160H400v160ZM180-400h160v-160H180v160Zm440 0h160v-160H620v160ZM180-180h160v-160H180v160Zm440 0h160v-160H620v160Z\"/>\n",
              "  </svg>\n",
              "    </button>\n",
              "\n",
              "  <style>\n",
              "    .colab-df-container {\n",
              "      display:flex;\n",
              "      gap: 12px;\n",
              "    }\n",
              "\n",
              "    .colab-df-convert {\n",
              "      background-color: #E8F0FE;\n",
              "      border: none;\n",
              "      border-radius: 50%;\n",
              "      cursor: pointer;\n",
              "      display: none;\n",
              "      fill: #1967D2;\n",
              "      height: 32px;\n",
              "      padding: 0 0 0 0;\n",
              "      width: 32px;\n",
              "    }\n",
              "\n",
              "    .colab-df-convert:hover {\n",
              "      background-color: #E2EBFA;\n",
              "      box-shadow: 0px 1px 2px rgba(60, 64, 67, 0.3), 0px 1px 3px 1px rgba(60, 64, 67, 0.15);\n",
              "      fill: #174EA6;\n",
              "    }\n",
              "\n",
              "    .colab-df-buttons div {\n",
              "      margin-bottom: 4px;\n",
              "    }\n",
              "\n",
              "    [theme=dark] .colab-df-convert {\n",
              "      background-color: #3B4455;\n",
              "      fill: #D2E3FC;\n",
              "    }\n",
              "\n",
              "    [theme=dark] .colab-df-convert:hover {\n",
              "      background-color: #434B5C;\n",
              "      box-shadow: 0px 1px 3px 1px rgba(0, 0, 0, 0.15);\n",
              "      filter: drop-shadow(0px 1px 2px rgba(0, 0, 0, 0.3));\n",
              "      fill: #FFFFFF;\n",
              "    }\n",
              "  </style>\n",
              "\n",
              "    <script>\n",
              "      const buttonEl =\n",
              "        document.querySelector('#df-92ef5b1c-2d6f-4b1e-ad11-398893839bde button.colab-df-convert');\n",
              "      buttonEl.style.display =\n",
              "        google.colab.kernel.accessAllowed ? 'block' : 'none';\n",
              "\n",
              "      async function convertToInteractive(key) {\n",
              "        const element = document.querySelector('#df-92ef5b1c-2d6f-4b1e-ad11-398893839bde');\n",
              "        const dataTable =\n",
              "          await google.colab.kernel.invokeFunction('convertToInteractive',\n",
              "                                                    [key], {});\n",
              "        if (!dataTable) return;\n",
              "\n",
              "        const docLinkHtml = 'Like what you see? Visit the ' +\n",
              "          '<a target=\"_blank\" href=https://colab.research.google.com/notebooks/data_table.ipynb>data table notebook</a>'\n",
              "          + ' to learn more about interactive tables.';\n",
              "        element.innerHTML = '';\n",
              "        dataTable['output_type'] = 'display_data';\n",
              "        await google.colab.output.renderOutput(dataTable, element);\n",
              "        const docLink = document.createElement('div');\n",
              "        docLink.innerHTML = docLinkHtml;\n",
              "        element.appendChild(docLink);\n",
              "      }\n",
              "    </script>\n",
              "  </div>\n",
              "\n",
              "\n",
              "    <div id=\"df-46cda6e7-ebc7-4754-85bd-cf87f509bc9f\">\n",
              "      <button class=\"colab-df-quickchart\" onclick=\"quickchart('df-46cda6e7-ebc7-4754-85bd-cf87f509bc9f')\"\n",
              "                title=\"Suggest charts\"\n",
              "                style=\"display:none;\">\n",
              "\n",
              "<svg xmlns=\"http://www.w3.org/2000/svg\" height=\"24px\"viewBox=\"0 0 24 24\"\n",
              "     width=\"24px\">\n",
              "    <g>\n",
              "        <path d=\"M19 3H5c-1.1 0-2 .9-2 2v14c0 1.1.9 2 2 2h14c1.1 0 2-.9 2-2V5c0-1.1-.9-2-2-2zM9 17H7v-7h2v7zm4 0h-2V7h2v10zm4 0h-2v-4h2v4z\"/>\n",
              "    </g>\n",
              "</svg>\n",
              "      </button>\n",
              "\n",
              "<style>\n",
              "  .colab-df-quickchart {\n",
              "      --bg-color: #E8F0FE;\n",
              "      --fill-color: #1967D2;\n",
              "      --hover-bg-color: #E2EBFA;\n",
              "      --hover-fill-color: #174EA6;\n",
              "      --disabled-fill-color: #AAA;\n",
              "      --disabled-bg-color: #DDD;\n",
              "  }\n",
              "\n",
              "  [theme=dark] .colab-df-quickchart {\n",
              "      --bg-color: #3B4455;\n",
              "      --fill-color: #D2E3FC;\n",
              "      --hover-bg-color: #434B5C;\n",
              "      --hover-fill-color: #FFFFFF;\n",
              "      --disabled-bg-color: #3B4455;\n",
              "      --disabled-fill-color: #666;\n",
              "  }\n",
              "\n",
              "  .colab-df-quickchart {\n",
              "    background-color: var(--bg-color);\n",
              "    border: none;\n",
              "    border-radius: 50%;\n",
              "    cursor: pointer;\n",
              "    display: none;\n",
              "    fill: var(--fill-color);\n",
              "    height: 32px;\n",
              "    padding: 0;\n",
              "    width: 32px;\n",
              "  }\n",
              "\n",
              "  .colab-df-quickchart:hover {\n",
              "    background-color: var(--hover-bg-color);\n",
              "    box-shadow: 0 1px 2px rgba(60, 64, 67, 0.3), 0 1px 3px 1px rgba(60, 64, 67, 0.15);\n",
              "    fill: var(--button-hover-fill-color);\n",
              "  }\n",
              "\n",
              "  .colab-df-quickchart-complete:disabled,\n",
              "  .colab-df-quickchart-complete:disabled:hover {\n",
              "    background-color: var(--disabled-bg-color);\n",
              "    fill: var(--disabled-fill-color);\n",
              "    box-shadow: none;\n",
              "  }\n",
              "\n",
              "  .colab-df-spinner {\n",
              "    border: 2px solid var(--fill-color);\n",
              "    border-color: transparent;\n",
              "    border-bottom-color: var(--fill-color);\n",
              "    animation:\n",
              "      spin 1s steps(1) infinite;\n",
              "  }\n",
              "\n",
              "  @keyframes spin {\n",
              "    0% {\n",
              "      border-color: transparent;\n",
              "      border-bottom-color: var(--fill-color);\n",
              "      border-left-color: var(--fill-color);\n",
              "    }\n",
              "    20% {\n",
              "      border-color: transparent;\n",
              "      border-left-color: var(--fill-color);\n",
              "      border-top-color: var(--fill-color);\n",
              "    }\n",
              "    30% {\n",
              "      border-color: transparent;\n",
              "      border-left-color: var(--fill-color);\n",
              "      border-top-color: var(--fill-color);\n",
              "      border-right-color: var(--fill-color);\n",
              "    }\n",
              "    40% {\n",
              "      border-color: transparent;\n",
              "      border-right-color: var(--fill-color);\n",
              "      border-top-color: var(--fill-color);\n",
              "    }\n",
              "    60% {\n",
              "      border-color: transparent;\n",
              "      border-right-color: var(--fill-color);\n",
              "    }\n",
              "    80% {\n",
              "      border-color: transparent;\n",
              "      border-right-color: var(--fill-color);\n",
              "      border-bottom-color: var(--fill-color);\n",
              "    }\n",
              "    90% {\n",
              "      border-color: transparent;\n",
              "      border-bottom-color: var(--fill-color);\n",
              "    }\n",
              "  }\n",
              "</style>\n",
              "\n",
              "      <script>\n",
              "        async function quickchart(key) {\n",
              "          const quickchartButtonEl =\n",
              "            document.querySelector('#' + key + ' button');\n",
              "          quickchartButtonEl.disabled = true;  // To prevent multiple clicks.\n",
              "          quickchartButtonEl.classList.add('colab-df-spinner');\n",
              "          try {\n",
              "            const charts = await google.colab.kernel.invokeFunction(\n",
              "                'suggestCharts', [key], {});\n",
              "          } catch (error) {\n",
              "            console.error('Error during call to suggestCharts:', error);\n",
              "          }\n",
              "          quickchartButtonEl.classList.remove('colab-df-spinner');\n",
              "          quickchartButtonEl.classList.add('colab-df-quickchart-complete');\n",
              "        }\n",
              "        (() => {\n",
              "          let quickchartButtonEl =\n",
              "            document.querySelector('#df-46cda6e7-ebc7-4754-85bd-cf87f509bc9f button');\n",
              "          quickchartButtonEl.style.display =\n",
              "            google.colab.kernel.accessAllowed ? 'block' : 'none';\n",
              "        })();\n",
              "      </script>\n",
              "    </div>\n",
              "\n",
              "    </div>\n",
              "  </div>\n"
            ],
            "text/plain": [
              "  subject  accuracy  macro_f1  n_samples\n",
              "0      S3  1.000000  1.000000        107\n",
              "1      S8  1.000000  1.000000         90\n",
              "2      S6  0.965517  0.918768        116\n",
              "3      S5  0.961538  0.917460        103\n",
              "4     S17  0.960000  0.916944         97"
            ]
          },
          "metadata": {},
          "output_type": "display_data"
        }
      ],
      "source": [
        "\n",
        "\n",
        "# 先頭セルで定義済みの DATA_PATH があれば優先し、なければ /content/data を起点に探索\n",
        "ROOTS = []\n",
        "if 'DATA_PATH' in globals():\n",
        "    ROOTS.append(Path(DATA_PATH))\n",
        "ROOTS += [Path(\"/content/data\"), Path(\"/kaggle/input\")]  # 存在するディレクトリだけ使われます\n",
        "\n",
        "PKL_INDEX = {}\n",
        "for root in ROOTS:\n",
        "    if root.exists():\n",
        "        for p in root.rglob(\"S*/S*.pkl\"):  # 例: .../WESAD/S2/S2.pkl\n",
        "            PKL_INDEX[p.stem] = p  # {'S2': PosixPath(.../S2.pkl), ...}\n",
        "\n",
        "if not PKL_INDEX:\n",
        "    raise RuntimeError(\"S*.pkl が見つかりません。KaggleミラーがCSVのみの可能性があります。\"\n",
        "                       \"データ配置を確認してください。（/content/data 以下に WESAD/S*/S*.pkl があるか）\")\n",
        "\n",
        "print(f\"Found {len(PKL_INDEX)} subjects:\", sorted(PKL_INDEX)[:10], \"...\")\n",
        "\n",
        "rows = []\n",
        "def process_subject_from_pkl(pkl_path):\n",
        "    \"\"\"\n",
        "    1) S*/S*.pkl を読み込み\n",
        "    2) ECG を抽出して R-peak 検出（neurokit2）\n",
        "    3) 窓ごと（WINDOW_SIZE_SEC / WINDOW_OVERLAP_SEC）に特徴量生成\n",
        "       - HR の平均/分散\n",
        "       - RR間隔から SDNN / RMSSD\n",
        "    4) ラベル配列を多数決で窓ラベルにマッピング（stress=2 を優先、無ければ最大値をstress扱い）\n",
        "    5) 単純なロジスティック回帰で学習→accuracy, macro_f1 を返す\n",
        "    \"\"\"\n",
        "    import numpy as np\n",
        "    import pandas as pd\n",
        "    import pickle\n",
        "    from pathlib import Path\n",
        "    import neurokit2 as nk\n",
        "    from sklearn.model_selection import train_test_split\n",
        "    from sklearn.preprocessing import StandardScaler\n",
        "    from sklearn.pipeline import Pipeline\n",
        "    from sklearn.linear_model import LogisticRegression\n",
        "    from sklearn.metrics import accuracy_score, f1_score\n",
        "\n",
        "    # ---- 0) 読み込み ----\n",
        "    with open(pkl_path, \"rb\") as f:\n",
        "        d = pickle.load(f, encoding=\"latin1\")\n",
        "\n",
        "    # ---- 1) ECG 抽出（大小文字や階層の違いにロバスト）----\n",
        "    def find_array_by_key(obj, substr):\n",
        "        \"\"\"辞書/リストを再帰探索して key に substr を含む np.ndarray を返す\"\"\"\n",
        "        if isinstance(obj, dict):\n",
        "            for k, v in obj.items():\n",
        "                if isinstance(k, str) and substr in k.lower() and isinstance(v, np.ndarray):\n",
        "                    return v\n",
        "            for v in obj.values():\n",
        "                out = find_array_by_key(v, substr)\n",
        "                if out is not None:\n",
        "                    return out\n",
        "        elif isinstance(obj, (list, tuple)):\n",
        "            for v in obj:\n",
        "                out = find_array_by_key(v, substr)\n",
        "                if out is not None:\n",
        "                    return out\n",
        "        return None\n",
        "\n",
        "    # よくある構造: d['signal']['chest']['ECG']\n",
        "    ecg = None\n",
        "    try:\n",
        "        ecg = d['signal']['chest']['ECG']\n",
        "    except Exception:\n",
        "        pass\n",
        "    if ecg is None:\n",
        "        ecg = find_array_by_key(d, 'ecg')\n",
        "    if ecg is None:\n",
        "        raise ValueError(\"ECG 配列が見つかりませんでした。\")\n",
        "\n",
        "    ecg = np.asarray(ecg).astype(float).flatten()\n",
        "    fs = int(globals().get(\"ECG_SAMPLING_RATE_RESP\", 700))\n",
        "\n",
        "    # ---- 2) ラベル取得（長さがECGと同じ配列を優先）----\n",
        "    label = None\n",
        "    # よくある: d['label']\n",
        "    if isinstance(d, dict) and 'label' in d and isinstance(d['label'], np.ndarray):\n",
        "        label = d['label'].astype(int).flatten()\n",
        "    if label is None or label.shape[0] != ecg.shape[0]:\n",
        "        # 他の場所にある可能性\n",
        "        cand = find_array_by_key(d, 'label')\n",
        "        if isinstance(cand, np.ndarray):\n",
        "            label = cand.astype(int).flatten()\n",
        "    # 長さが合わないなら窓ラベリングできないのでスキップ\n",
        "    if label is None or label.shape[0] != ecg.shape[0]:\n",
        "        raise ValueError(\"ラベル配列が見つからないか、ECGと長さが一致しません。\")\n",
        "\n",
        "    # ---- 3) ECG 処理（neurokit2）----\n",
        "    # 全体に対して一発で処理（高速・安定）\n",
        "    signals, info = nk.ecg_process(ecg, sampling_rate=fs)\n",
        "    peaks_idx = np.where(signals[\"ECG_R_Peaks\"].values == 1)[0]\n",
        "\n",
        "    # ---- 4) 窓定義 ----\n",
        "    win = int(globals().get(\"WINDOW_SIZE_SEC\", 300) * fs)\n",
        "    step = int((globals().get(\"WINDOW_SIZE_SEC\", 300) - globals().get(\"WINDOW_OVERLAP_SEC\", 60)) * fs)\n",
        "    step = max(step, 1)\n",
        "\n",
        "    X_rows, y_rows = [], []\n",
        "    n = ecg.shape[0]\n",
        "    lab_unique = np.unique(label)\n",
        "    # stress ラベルの推定（WESAD慣例: 2=stress が多い）\n",
        "    stress_code = 2 if 2 in lab_unique else int(lab_unique.max())\n",
        "\n",
        "    for start in range(0, max(0, n - win + 1), step):\n",
        "        end = start + win\n",
        "        # R-peak を窓内に切り出し\n",
        "        w_peaks = peaks_idx[(peaks_idx >= start) & (peaks_idx < end)]\n",
        "        if w_peaks.size < 3:\n",
        "            continue\n",
        "        # RR(ms)\n",
        "        rr_ms = np.diff(w_peaks) / fs * 1000.0\n",
        "        if rr_ms.size < 2:\n",
        "            continue\n",
        "\n",
        "        # HR系列（neurokit2 の ECG_Rate）はサンプルごと、窓内統計を使う\n",
        "        hr_seg = signals[\"ECG_Rate\"].iloc[start:end].values\n",
        "        if hr_seg.size == 0:\n",
        "            continue\n",
        "\n",
        "        # 特徴量\n",
        "        hr_mean = float(np.nanmean(hr_seg))\n",
        "        hr_std = float(np.nanstd(hr_seg))\n",
        "        sdnn = float(np.nanstd(rr_ms))\n",
        "        rmssd = float(np.sqrt(np.nanmean(np.diff(rr_ms)**2)))\n",
        "\n",
        "        X_rows.append([hr_mean, hr_std, sdnn, rmssd])\n",
        "\n",
        "        # ラベル多数決\n",
        "        lab_win = label[start:end]\n",
        "        # 0/NaN が混ざる可能性を考慮しつつ多数決\n",
        "        vals, counts = np.unique(lab_win[~np.isnan(lab_win)], return_counts=True)\n",
        "        if vals.size == 0:\n",
        "            continue\n",
        "        maj = int(vals[np.argmax(counts)])\n",
        "        y_rows.append(1 if maj == stress_code else 0)\n",
        "\n",
        "    if len(X_rows) < 10 or len(set(y_rows)) < 2:\n",
        "        raise ValueError(\"有効な窓が十分でないか、単一クラスしかありません。\")\n",
        "\n",
        "    X = pd.DataFrame(X_rows, columns=[\"hr_mean\",\"hr_std\",\"sdnn\",\"rmssd\"])\n",
        "    y = np.array(y_rows, dtype=int)\n",
        "\n",
        "    # ---- 5) 学習・評価 ----\n",
        "    X_train, X_test, y_train, y_test = train_test_split(\n",
        "        X, y, test_size=0.25, random_state=42, stratify=y\n",
        "    )\n",
        "    clf = Pipeline([\n",
        "        (\"scaler\", StandardScaler()),\n",
        "        (\"logreg\", LogisticRegression(max_iter=1000))\n",
        "    ])\n",
        "    clf.fit(X_train, y_train)\n",
        "    y_pred = clf.predict(X_test)\n",
        "\n",
        "    acc = float(accuracy_score(y_test, y_pred))\n",
        "    mf1 = float(f1_score(y_test, y_pred, average=\"macro\"))\n",
        "\n",
        "    return {\"accuracy\": acc, \"macro_f1\": mf1, \"n_samples\": int(len(y))}\n",
        "\n",
        "\n",
        "for sid in sorted(PKL_INDEX.keys(), key=lambda s: int(s[1:])):  # S2→2 でソート\n",
        "    pkl_path = PKL_INDEX[sid]\n",
        "    print(f\"=== Processing {sid} ===\")\n",
        "    try:\n",
        "        metrics = process_subject_from_pkl(pkl_path)\n",
        "        rows.append({\"subject\": sid, **metrics})\n",
        "    except NotImplementedError as e:\n",
        "        # まずはここにあなたの処理を実装してから実行してください\n",
        "        raise\n",
        "    except Exception as e:\n",
        "        print(f\"Skip {sid}: {e}\")\n",
        "\n",
        "# 失敗対策：空やキー不足なら安全に抜ける\n",
        "if not rows:\n",
        "    raise RuntimeError(\"どの被験者も処理できませんでした。上のログの FileNotFound/その他エラーを解消してください。\")\n",
        "\n",
        "df = pd.DataFrame(rows)\n",
        "missing = [k for k in [\"accuracy\",\"macro_f1\",\"n_samples\"] if k not in df.columns]\n",
        "if missing:\n",
        "    raise KeyError(f\"結果DataFrameに必要な列がありません: {missing}  \"\n",
        "                   f\"→ process_subject_from_pkl の戻り値を {{'accuracy','macro_f1','n_samples'}} を含む辞書にしてください。\")\n",
        "\n",
        "df = df.sort_values(\"accuracy\", ascending=False).reset_index(drop=True)\n",
        "display(df.head())\n"
      ]
    }
  ],
  "metadata": {
    "colab": {
      "provenance": []
    },
    "kaggle": {
      "accelerator": "none",
      "dataSources": [
        {
          "datasetId": 7192727,
          "sourceId": 11476463,
          "sourceType": "datasetVersion"
        }
      ],
      "dockerImageVersionId": 31089,
      "isGpuEnabled": false,
      "isInternetEnabled": true,
      "language": "python",
      "sourceType": "notebook"
    },
    "kernelspec": {
      "display_name": "Python 3",
      "language": "python",
      "name": "python3"
    },
    "language_info": {
      "codemirror_mode": {
        "name": "ipython",
        "version": 3
      },
      "file_extension": ".py",
      "mimetype": "text/x-python",
      "name": "python",
      "nbconvert_exporter": "python",
      "pygments_lexer": "ipython3",
      "version": "3.11.13"
    }
  },
  "nbformat": 4,
  "nbformat_minor": 0
}
